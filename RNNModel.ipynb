{
  "nbformat": 4,
  "nbformat_minor": 0,
  "metadata": {
    "accelerator": "GPU",
    "colab": {
      "name": "RNNModel.ipynb",
      "provenance": [],
      "machine_shape": "hm"
    },
    "kernelspec": {
      "display_name": "Python 3",
      "name": "python3"
    },
    "language_info": {
      "name": "python"
    }
  },
  "cells": [
    {
      "cell_type": "code",
      "metadata": {
        "colab": {
          "base_uri": "https://localhost:8080/"
        },
        "id": "_cTN4KJIO6H3",
        "outputId": "260952a8-0c0a-4bbc-9cd3-c7f64256376a"
      },
      "source": [
        "gpu_info = !nvidia-smi\n",
        "gpu_info = '\\n'.join(gpu_info)\n",
        "if gpu_info.find('failed') >= 0:\n",
        "  print('Not connected to a GPU')\n",
        "else:\n",
        "  print(gpu_info)"
      ],
      "execution_count": null,
      "outputs": [
        {
          "name": "stdout",
          "output_type": "stream",
          "text": [
            "Sun Nov  7 03:51:24 2021       \n",
            "+-----------------------------------------------------------------------------+\n",
            "| NVIDIA-SMI 495.44       Driver Version: 460.32.03    CUDA Version: 11.2     |\n",
            "|-------------------------------+----------------------+----------------------+\n",
            "| GPU  Name        Persistence-M| Bus-Id        Disp.A | Volatile Uncorr. ECC |\n",
            "| Fan  Temp  Perf  Pwr:Usage/Cap|         Memory-Usage | GPU-Util  Compute M. |\n",
            "|                               |                      |               MIG M. |\n",
            "|===============================+======================+======================|\n",
            "|   0  Tesla P100-PCIE...  Off  | 00000000:00:04.0 Off |                    0 |\n",
            "| N/A   35C    P0    26W / 250W |      0MiB / 16280MiB |      0%      Default |\n",
            "|                               |                      |                  N/A |\n",
            "+-------------------------------+----------------------+----------------------+\n",
            "                                                                               \n",
            "+-----------------------------------------------------------------------------+\n",
            "| Processes:                                                                  |\n",
            "|  GPU   GI   CI        PID   Type   Process name                  GPU Memory |\n",
            "|        ID   ID                                                   Usage      |\n",
            "|=============================================================================|\n",
            "|  No running processes found                                                 |\n",
            "+-----------------------------------------------------------------------------+\n"
          ]
        }
      ]
    },
    {
      "cell_type": "code",
      "metadata": {
        "colab": {
          "base_uri": "https://localhost:8080/"
        },
        "id": "ea_iNN-jO-mP",
        "outputId": "bdb14a60-4712-4319-d488-e9068044c86a"
      },
      "source": [
        "from psutil import virtual_memory\n",
        "ram_gb = virtual_memory().total / 1e9\n",
        "print('Your runtime has {:.1f} gigabytes of available RAM\\n'.format(ram_gb))\n",
        "\n",
        "if ram_gb < 20:\n",
        "  print('Not using a high-RAM runtime')\n",
        "else:\n",
        "  print('You are using a high-RAM runtime!')"
      ],
      "execution_count": null,
      "outputs": [
        {
          "name": "stdout",
          "output_type": "stream",
          "text": [
            "Your runtime has 27.3 gigabytes of available RAM\n",
            "\n",
            "You are using a high-RAM runtime!\n"
          ]
        }
      ]
    },
    {
      "cell_type": "code",
      "metadata": {
        "colab": {
          "base_uri": "https://localhost:8080/"
        },
        "id": "pi-Ht6y6PBlY",
        "outputId": "a42ba906-08ff-40b1-cde4-30d0c83b3831"
      },
      "source": [
        "from google.colab import drive\n",
        "drive.mount('/content/drive')\n",
        "\n",
        "%cd \"/content/drive/My Drive/Tesina/data set 10-1\"\n",
        "!pwd"
      ],
      "execution_count": null,
      "outputs": [
        {
          "output_type": "stream",
          "name": "stdout",
          "text": [
            "Drive already mounted at /content/drive; to attempt to forcibly remount, call drive.mount(\"/content/drive\", force_remount=True).\n",
            "/content/drive/My Drive/Tesina/data set 10-1\n",
            "/content/drive/My Drive/Tesina/data set 10-1\n"
          ]
        }
      ]
    },
    {
      "cell_type": "code",
      "metadata": {
        "id": "bjLtvp9DPDma"
      },
      "source": [
        "import numpy as np\n",
        "import tensorflow as tf\n",
        "from tensorflow import keras\n",
        "from tensorflow.keras import layers\n",
        "import matplotlib.pyplot as plot\n",
        "from sklearn.model_selection import train_test_split\n",
        "from sklearn.metrics import confusion_matrix, accuracy_score\n",
        "import time"
      ],
      "execution_count": null,
      "outputs": []
    },
    {
      "cell_type": "code",
      "metadata": {
        "colab": {
          "base_uri": "https://localhost:8080/"
        },
        "id": "dsxLW9ssPH4c",
        "outputId": "1c53631a-a3e1-45b1-98ae-94bac41a449e"
      },
      "source": [
        "x_Train = np.load('x_Train.npy', mmap_mode=None, allow_pickle=True, fix_imports=False)\n",
        "y_Train = np.load('y_Train.npy', mmap_mode=None, allow_pickle=True, fix_imports=False)\n",
        "\n",
        "x_Test = np.load('x_Test.npy', mmap_mode=None, allow_pickle=True, fix_imports=False)\n",
        "y_Test = np.load('y_Test.npy', mmap_mode=None, allow_pickle=True, fix_imports=False)\n",
        "\n",
        "x_Val = np.load('x_Val.npy', mmap_mode=None, allow_pickle=True, fix_imports=False)\n",
        "y_Val = np.load('y_Val.npy', mmap_mode=None, allow_pickle=True, fix_imports=False)\n",
        "print(x_Train.shape)\n",
        "print(y_Train.shape)\n"
      ],
      "execution_count": null,
      "outputs": [
        {
          "output_type": "stream",
          "name": "stdout",
          "text": [
            "(2682, 12, 25600)\n",
            "(2682,)\n"
          ]
        }
      ]
    },
    {
      "cell_type": "code",
      "metadata": {
        "id": "WbFlKFzniLZQ"
      },
      "source": [
        "callback = tf.keras.callbacks.ReduceLROnPlateau(monitor='val_loss', factor=0.2, patience=5, min_lr=0.00001)\n"
      ],
      "execution_count": null,
      "outputs": []
    },
    {
      "cell_type": "code",
      "metadata": {
        "id": "LisCZWISCfVl"
      },
      "source": [
        "callback2 = tf.keras.callbacks.EarlyStopping(monitor=\"val_loss\",patience=5)"
      ],
      "execution_count": null,
      "outputs": []
    },
    {
      "cell_type": "code",
      "metadata": {
        "id": "IdDs-w5rPMyL",
        "colab": {
          "base_uri": "https://localhost:8080/"
        },
        "outputId": "700f1538-b5ed-42ba-cf82-3647251d3011"
      },
      "source": [
        "model1 = tf.keras.models.Sequential()\n",
        "\n",
        "model1.add(tf.keras.layers.SimpleRNN(units=64,input_shape=(x_Train.shape[1],x_Train.shape[2]),return_sequences=False))\n",
        "\n",
        "\n",
        "\n",
        "#Decrease learning rate\n",
        "# optimizer = keras.optimizers.Adam(learning_rate=0.001)\n",
        "model1.add(tf.keras.layers.Dense(units=1,activation='sigmoid'))\n",
        "model1.compile(optimizer='adam',loss='binary_crossentropy',metrics=['accuracy'])\n",
        "\n",
        "# show model1 summary\n",
        "model1.summary()"
      ],
      "execution_count": null,
      "outputs": [
        {
          "output_type": "stream",
          "name": "stdout",
          "text": [
            "Model: \"sequential\"\n",
            "_________________________________________________________________\n",
            " Layer (type)                Output Shape              Param #   \n",
            "=================================================================\n",
            " simple_rnn (SimpleRNN)      (None, 64)                3280960   \n",
            "                                                                 \n",
            " dense (Dense)               (None, 1)                 65        \n",
            "                                                                 \n",
            "=================================================================\n",
            "Total params: 3,281,025\n",
            "Trainable params: 3,281,025\n",
            "Non-trainable params: 0\n",
            "_________________________________________________________________\n"
          ]
        }
      ]
    },
    {
      "cell_type": "code",
      "metadata": {
        "colab": {
          "base_uri": "https://localhost:8080/"
        },
        "id": "aTh_bGBBPO1V",
        "outputId": "0f798462-4a53-4a94-9f3b-70490decdf22"
      },
      "source": [
        "model1.fit(x_Train,y_Train,epochs=60, validation_data=(x_Val,y_Val),batch_size=32)"
      ],
      "execution_count": null,
      "outputs": [
        {
          "output_type": "stream",
          "name": "stdout",
          "text": [
            "Epoch 1/60\n",
            "42/42 [==============================] - 4s 42ms/step - loss: 0.6936 - accuracy: 0.4855 - val_loss: 0.6925 - val_accuracy: 0.5135\n",
            "Epoch 2/60\n",
            "42/42 [==============================] - 1s 34ms/step - loss: 0.6339 - accuracy: 0.6898 - val_loss: 0.7785 - val_accuracy: 0.4324\n",
            "Epoch 3/60\n",
            "42/42 [==============================] - 1s 34ms/step - loss: 0.4012 - accuracy: 0.7972 - val_loss: 0.9482 - val_accuracy: 0.5405\n",
            "Epoch 4/60\n",
            "42/42 [==============================] - 1s 34ms/step - loss: 0.1853 - accuracy: 0.9277 - val_loss: 1.6437 - val_accuracy: 0.5676\n",
            "Epoch 5/60\n",
            "42/42 [==============================] - 1s 36ms/step - loss: 0.0926 - accuracy: 0.9650 - val_loss: 1.9526 - val_accuracy: 0.6216\n",
            "Epoch 6/60\n",
            "42/42 [==============================] - 1s 34ms/step - loss: 0.0480 - accuracy: 0.9851 - val_loss: 1.7131 - val_accuracy: 0.5000\n",
            "Epoch 7/60\n",
            "42/42 [==============================] - 1s 34ms/step - loss: 0.0579 - accuracy: 0.9784 - val_loss: 2.0068 - val_accuracy: 0.5405\n",
            "Epoch 8/60\n",
            "42/42 [==============================] - 1s 35ms/step - loss: 0.0589 - accuracy: 0.9814 - val_loss: 2.3348 - val_accuracy: 0.5135\n",
            "Epoch 9/60\n",
            "42/42 [==============================] - 1s 35ms/step - loss: 0.0432 - accuracy: 0.9881 - val_loss: 2.9816 - val_accuracy: 0.4054\n",
            "Epoch 10/60\n",
            "42/42 [==============================] - 1s 34ms/step - loss: 0.0147 - accuracy: 0.9970 - val_loss: 2.9854 - val_accuracy: 0.4865\n",
            "Epoch 11/60\n",
            "42/42 [==============================] - 1s 34ms/step - loss: 0.0017 - accuracy: 1.0000 - val_loss: 3.3366 - val_accuracy: 0.4865\n",
            "Epoch 12/60\n",
            "42/42 [==============================] - 1s 35ms/step - loss: 6.6697e-04 - accuracy: 1.0000 - val_loss: 3.4112 - val_accuracy: 0.5000\n",
            "Epoch 13/60\n",
            "42/42 [==============================] - 2s 36ms/step - loss: 4.9794e-04 - accuracy: 1.0000 - val_loss: 3.4718 - val_accuracy: 0.5000\n",
            "Epoch 14/60\n",
            "42/42 [==============================] - 1s 33ms/step - loss: 4.0320e-04 - accuracy: 1.0000 - val_loss: 3.5299 - val_accuracy: 0.5000\n",
            "Epoch 15/60\n",
            "42/42 [==============================] - 1s 34ms/step - loss: 3.3812e-04 - accuracy: 1.0000 - val_loss: 3.5743 - val_accuracy: 0.5000\n",
            "Epoch 16/60\n",
            "42/42 [==============================] - 1s 33ms/step - loss: 2.9384e-04 - accuracy: 1.0000 - val_loss: 3.6286 - val_accuracy: 0.4865\n",
            "Epoch 17/60\n",
            "42/42 [==============================] - 1s 36ms/step - loss: 2.5619e-04 - accuracy: 1.0000 - val_loss: 3.6551 - val_accuracy: 0.4865\n",
            "Epoch 18/60\n",
            "42/42 [==============================] - 1s 34ms/step - loss: 2.2784e-04 - accuracy: 1.0000 - val_loss: 3.6899 - val_accuracy: 0.5000\n",
            "Epoch 19/60\n",
            "42/42 [==============================] - 1s 34ms/step - loss: 2.0611e-04 - accuracy: 1.0000 - val_loss: 3.7228 - val_accuracy: 0.4865\n",
            "Epoch 20/60\n",
            "42/42 [==============================] - 1s 34ms/step - loss: 1.8653e-04 - accuracy: 1.0000 - val_loss: 3.7468 - val_accuracy: 0.4865\n",
            "Epoch 21/60\n",
            "42/42 [==============================] - 1s 34ms/step - loss: 1.6944e-04 - accuracy: 1.0000 - val_loss: 3.7740 - val_accuracy: 0.4865\n",
            "Epoch 22/60\n",
            "42/42 [==============================] - 2s 36ms/step - loss: 1.5512e-04 - accuracy: 1.0000 - val_loss: 3.8032 - val_accuracy: 0.4865\n",
            "Epoch 23/60\n",
            "42/42 [==============================] - 2s 36ms/step - loss: 1.4389e-04 - accuracy: 1.0000 - val_loss: 3.8274 - val_accuracy: 0.4865\n",
            "Epoch 24/60\n",
            "42/42 [==============================] - 1s 36ms/step - loss: 1.3259e-04 - accuracy: 1.0000 - val_loss: 3.8489 - val_accuracy: 0.4865\n",
            "Epoch 25/60\n",
            "42/42 [==============================] - 1s 36ms/step - loss: 1.2331e-04 - accuracy: 1.0000 - val_loss: 3.8724 - val_accuracy: 0.4865\n",
            "Epoch 26/60\n",
            "42/42 [==============================] - 1s 34ms/step - loss: 1.1508e-04 - accuracy: 1.0000 - val_loss: 3.8931 - val_accuracy: 0.4865\n",
            "Epoch 27/60\n",
            "42/42 [==============================] - 2s 37ms/step - loss: 1.0775e-04 - accuracy: 1.0000 - val_loss: 3.9140 - val_accuracy: 0.4865\n",
            "Epoch 28/60\n",
            "42/42 [==============================] - 1s 33ms/step - loss: 1.0101e-04 - accuracy: 1.0000 - val_loss: 3.9381 - val_accuracy: 0.4865\n",
            "Epoch 29/60\n",
            "42/42 [==============================] - 1s 34ms/step - loss: 9.4837e-05 - accuracy: 1.0000 - val_loss: 3.9519 - val_accuracy: 0.4865\n",
            "Epoch 30/60\n",
            "42/42 [==============================] - 1s 35ms/step - loss: 8.9285e-05 - accuracy: 1.0000 - val_loss: 3.9726 - val_accuracy: 0.4865\n",
            "Epoch 31/60\n",
            "42/42 [==============================] - 2s 36ms/step - loss: 8.4507e-05 - accuracy: 1.0000 - val_loss: 3.9891 - val_accuracy: 0.5000\n",
            "Epoch 32/60\n",
            "42/42 [==============================] - 1s 34ms/step - loss: 7.9739e-05 - accuracy: 1.0000 - val_loss: 4.0075 - val_accuracy: 0.5000\n",
            "Epoch 33/60\n",
            "42/42 [==============================] - 1s 34ms/step - loss: 7.5512e-05 - accuracy: 1.0000 - val_loss: 4.0236 - val_accuracy: 0.5000\n",
            "Epoch 34/60\n",
            "42/42 [==============================] - 2s 36ms/step - loss: 7.1706e-05 - accuracy: 1.0000 - val_loss: 4.0403 - val_accuracy: 0.5000\n",
            "Epoch 35/60\n",
            "42/42 [==============================] - 1s 34ms/step - loss: 6.8439e-05 - accuracy: 1.0000 - val_loss: 4.0543 - val_accuracy: 0.5000\n",
            "Epoch 36/60\n",
            "42/42 [==============================] - 1s 34ms/step - loss: 6.4803e-05 - accuracy: 1.0000 - val_loss: 4.0748 - val_accuracy: 0.5000\n",
            "Epoch 37/60\n",
            "42/42 [==============================] - 1s 34ms/step - loss: 6.1683e-05 - accuracy: 1.0000 - val_loss: 4.0917 - val_accuracy: 0.5000\n",
            "Epoch 38/60\n",
            "42/42 [==============================] - 1s 33ms/step - loss: 5.8882e-05 - accuracy: 1.0000 - val_loss: 4.1022 - val_accuracy: 0.5000\n",
            "Epoch 39/60\n",
            "42/42 [==============================] - 1s 35ms/step - loss: 5.6181e-05 - accuracy: 1.0000 - val_loss: 4.1208 - val_accuracy: 0.5000\n",
            "Epoch 40/60\n",
            "42/42 [==============================] - 1s 35ms/step - loss: 5.3793e-05 - accuracy: 1.0000 - val_loss: 4.1340 - val_accuracy: 0.5000\n",
            "Epoch 41/60\n",
            "42/42 [==============================] - 1s 35ms/step - loss: 5.1344e-05 - accuracy: 1.0000 - val_loss: 4.1493 - val_accuracy: 0.5000\n",
            "Epoch 42/60\n",
            "42/42 [==============================] - 1s 35ms/step - loss: 4.9142e-05 - accuracy: 1.0000 - val_loss: 4.1609 - val_accuracy: 0.5000\n",
            "Epoch 43/60\n",
            "42/42 [==============================] - 1s 34ms/step - loss: 4.7090e-05 - accuracy: 1.0000 - val_loss: 4.1738 - val_accuracy: 0.5000\n",
            "Epoch 44/60\n",
            "42/42 [==============================] - 1s 34ms/step - loss: 4.5165e-05 - accuracy: 1.0000 - val_loss: 4.1893 - val_accuracy: 0.5000\n",
            "Epoch 45/60\n",
            "42/42 [==============================] - 1s 34ms/step - loss: 4.3355e-05 - accuracy: 1.0000 - val_loss: 4.2031 - val_accuracy: 0.5000\n",
            "Epoch 46/60\n",
            "42/42 [==============================] - 1s 32ms/step - loss: 4.1605e-05 - accuracy: 1.0000 - val_loss: 4.2134 - val_accuracy: 0.5000\n",
            "Epoch 47/60\n",
            "42/42 [==============================] - 1s 34ms/step - loss: 3.9965e-05 - accuracy: 1.0000 - val_loss: 4.2283 - val_accuracy: 0.5000\n",
            "Epoch 48/60\n",
            "42/42 [==============================] - 1s 34ms/step - loss: 3.8472e-05 - accuracy: 1.0000 - val_loss: 4.2396 - val_accuracy: 0.5000\n",
            "Epoch 49/60\n",
            "42/42 [==============================] - 1s 34ms/step - loss: 3.7004e-05 - accuracy: 1.0000 - val_loss: 4.2512 - val_accuracy: 0.5000\n",
            "Epoch 50/60\n",
            "42/42 [==============================] - 1s 34ms/step - loss: 3.5666e-05 - accuracy: 1.0000 - val_loss: 4.2663 - val_accuracy: 0.5000\n",
            "Epoch 51/60\n",
            "42/42 [==============================] - 1s 34ms/step - loss: 3.4325e-05 - accuracy: 1.0000 - val_loss: 4.2766 - val_accuracy: 0.5000\n",
            "Epoch 52/60\n",
            "42/42 [==============================] - 1s 34ms/step - loss: 3.3099e-05 - accuracy: 1.0000 - val_loss: 4.2868 - val_accuracy: 0.5000\n",
            "Epoch 53/60\n",
            "42/42 [==============================] - 1s 35ms/step - loss: 3.1941e-05 - accuracy: 1.0000 - val_loss: 4.2988 - val_accuracy: 0.5000\n",
            "Epoch 54/60\n",
            "42/42 [==============================] - 1s 35ms/step - loss: 3.0825e-05 - accuracy: 1.0000 - val_loss: 4.3129 - val_accuracy: 0.5000\n",
            "Epoch 55/60\n",
            "42/42 [==============================] - 1s 35ms/step - loss: 2.9750e-05 - accuracy: 1.0000 - val_loss: 4.3235 - val_accuracy: 0.5000\n",
            "Epoch 56/60\n",
            "42/42 [==============================] - 1s 35ms/step - loss: 2.8710e-05 - accuracy: 1.0000 - val_loss: 4.3350 - val_accuracy: 0.5000\n",
            "Epoch 57/60\n",
            "42/42 [==============================] - 1s 34ms/step - loss: 2.7772e-05 - accuracy: 1.0000 - val_loss: 4.3479 - val_accuracy: 0.5000\n",
            "Epoch 58/60\n",
            "42/42 [==============================] - 1s 33ms/step - loss: 2.6843e-05 - accuracy: 1.0000 - val_loss: 4.3590 - val_accuracy: 0.5000\n",
            "Epoch 59/60\n",
            "42/42 [==============================] - 1s 35ms/step - loss: 2.5927e-05 - accuracy: 1.0000 - val_loss: 4.3684 - val_accuracy: 0.5000\n",
            "Epoch 60/60\n",
            "42/42 [==============================] - 1s 33ms/step - loss: 2.5103e-05 - accuracy: 1.0000 - val_loss: 4.3776 - val_accuracy: 0.5000\n"
          ]
        },
        {
          "output_type": "execute_result",
          "data": {
            "text/plain": [
              "<keras.callbacks.History at 0x7f856a302a90>"
            ]
          },
          "metadata": {},
          "execution_count": 5
        }
      ]
    },
    {
      "cell_type": "code",
      "metadata": {
        "colab": {
          "base_uri": "https://localhost:8080/",
          "height": 295
        },
        "id": "zoUTmeK8PWe5",
        "outputId": "9cdf93c2-df69-4298-82f3-083063c99b0f"
      },
      "source": [
        "plot.plot(model1.history.history['accuracy'])\n",
        "plot.plot(model1.history.history['val_accuracy'])\n",
        "plot.title('Model Accuracy')\n",
        "plot.ylabel('Accuracy')\n",
        "plot.xlabel('Epoch')\n",
        "plot.legend(['Train Set', 'Validation Set'], loc='upper left')\n",
        "plot.show()"
      ],
      "execution_count": null,
      "outputs": [
        {
          "data": {
            "image/png": "[encoded data removed]",
            "text/plain": [
              "<Figure size 432x288 with 1 Axes>"
            ]
          },
          "metadata": {},
          "output_type": "display_data"
        }
      ]
    },
    {
      "cell_type": "code",
      "metadata": {
        "colab": {
          "base_uri": "https://localhost:8080/",
          "height": 295
        },
        "id": "uWpi7J3OPZhF",
        "outputId": "ef26a682-1b46-4a7c-c9dd-4e604bfd8d45"
      },
      "source": [
        "plot.plot(model1.history.history['loss'])\n",
        "plot.plot(model1.history.history['val_loss'])\n",
        "plot.title('Model Loss')\n",
        "plot.ylabel('Loss')\n",
        "plot.xlabel('Epoch')\n",
        "plot.legend(['Train Set', 'Validation Set'], loc='upper left')\n",
        "plot.show()"
      ],
      "execution_count": null,
      "outputs": [
        {
          "data": {
            "image/png": "[encoded data removed]",
            "text/plain": [
              "<Figure size 432x288 with 1 Axes>"
            ]
          },
          "metadata": {},
          "output_type": "display_data"
        }
      ]
    },
    {
      "cell_type": "code",
      "metadata": {
        "colab": {
          "base_uri": "https://localhost:8080/"
        },
        "id": "zL_8X5zUPbt_",
        "outputId": "8d7c464f-4075-48ee-a926-464edc783ff8"
      },
      "source": [
        "print(\"Validation acc set at\\t\",model1.evaluate(x_Val,y_Val))\n",
        "print(\"Test acc set at\\t\",model1.evaluate(x_Test,y_Test))\n",
        "model1_predictions = model1.predict(x_Test)\n",
        "print (model1_predictions)\n",
        "np.unique((model1_predictions.round() == y_Test),return_counts=True)"
      ],
      "execution_count": null,
      "outputs": [
        {
          "name": "stdout",
          "output_type": "stream",
          "text": [
            "5/5 [==============================] - 0s 14ms/step - loss: 0.6931 - accuracy: 0.4698\n",
            "Validation acc set at\t [0.6931464076042175, 0.46979865431785583]\n",
            "5/5 [==============================] - 0s 13ms/step - loss: 0.6931 - accuracy: 0.5235\n",
            "Test acc set at\t [0.6931388974189758, 0.5234899520874023]\n",
            "[[0.4999652 ]\n",
            " [0.5002293 ]\n",
            " [0.49993384]\n",
            " [0.50007933]\n",
            " [0.50002205]\n",
            " [0.50010896]\n",
            " [0.49991715]\n",
            " [0.5000913 ]\n",
            " [0.49992752]\n",
            " [0.49999166]\n",
            " [0.5000273 ]\n",
            " [0.5000044 ]\n",
            " [0.49996173]\n",
            " [0.49994862]\n",
            " [0.49997544]\n",
            " [0.50005764]\n",
            " [0.5000481 ]\n",
            " [0.5000344 ]\n",
            " [0.49999094]\n",
            " [0.4999776 ]\n",
            " [0.49993837]\n",
            " [0.50007945]\n",
            " [0.50009054]\n",
            " [0.49999952]\n",
            " [0.5000029 ]\n",
            " [0.5000896 ]\n",
            " [0.50008714]\n",
            " [0.49996912]\n",
            " [0.5000604 ]\n",
            " [0.50011086]\n",
            " [0.49994397]\n",
            " [0.49996758]\n",
            " [0.49963704]\n",
            " [0.49999434]\n",
            " [0.50003046]\n",
            " [0.49991482]\n",
            " [0.50001884]\n",
            " [0.4999913 ]\n",
            " [0.4997823 ]\n",
            " [0.5000284 ]\n",
            " [0.50010365]\n",
            " [0.50013626]\n",
            " [0.5000041 ]\n",
            " [0.50008315]\n",
            " [0.50001043]\n",
            " [0.49999428]\n",
            " [0.50001484]\n",
            " [0.49999976]\n",
            " [0.49996674]\n",
            " [0.50004643]\n",
            " [0.50002784]\n",
            " [0.4999683 ]\n",
            " [0.4999553 ]\n",
            " [0.49994278]\n",
            " [0.49995697]\n",
            " [0.49993658]\n",
            " [0.49995536]\n",
            " [0.49995315]\n",
            " [0.49980703]\n",
            " [0.49997014]\n",
            " [0.49993575]\n",
            " [0.50003195]\n",
            " [0.49994916]\n",
            " [0.49998856]\n",
            " [0.49995017]\n",
            " [0.50000495]\n",
            " [0.50002515]\n",
            " [0.50001526]\n",
            " [0.4997941 ]\n",
            " [0.50008285]\n",
            " [0.49996567]\n",
            " [0.49983102]\n",
            " [0.4999709 ]\n",
            " [0.5000106 ]\n",
            " [0.49988678]\n",
            " [0.5000696 ]\n",
            " [0.49927637]\n",
            " [0.4999956 ]\n",
            " [0.50007683]\n",
            " [0.499924  ]\n",
            " [0.49996245]\n",
            " [0.50004905]\n",
            " [0.50002116]\n",
            " [0.5000177 ]\n",
            " [0.5001361 ]\n",
            " [0.5001512 ]\n",
            " [0.50013226]\n",
            " [0.500046  ]\n",
            " [0.5001421 ]\n",
            " [0.500003  ]\n",
            " [0.50013655]\n",
            " [0.49993026]\n",
            " [0.49996996]\n",
            " [0.4999861 ]\n",
            " [0.5000092 ]\n",
            " [0.49997663]\n",
            " [0.4999111 ]\n",
            " [0.49997997]\n",
            " [0.49993515]\n",
            " [0.50058   ]\n",
            " [0.49994826]\n",
            " [0.49992216]\n",
            " [0.50003654]\n",
            " [0.49993032]\n",
            " [0.49907434]\n",
            " [0.5000049 ]\n",
            " [0.5000638 ]\n",
            " [0.50002325]\n",
            " [0.49998796]\n",
            " [0.50001085]\n",
            " [0.50002426]\n",
            " [0.49990514]\n",
            " [0.49997854]\n",
            " [0.49997973]\n",
            " [0.4998228 ]\n",
            " [0.49999714]\n",
            " [0.49993122]\n",
            " [0.5000606 ]\n",
            " [0.50000143]\n",
            " [0.4997799 ]\n",
            " [0.4999745 ]\n",
            " [0.49987283]\n",
            " [0.4999364 ]\n",
            " [0.49970156]\n",
            " [0.5000162 ]\n",
            " [0.49998403]\n",
            " [0.5000241 ]\n",
            " [0.50004804]\n",
            " [0.5000312 ]\n",
            " [0.50008535]\n",
            " [0.49989906]\n",
            " [0.500219  ]\n",
            " [0.50011355]\n",
            " [0.5000026 ]\n",
            " [0.50004613]\n",
            " [0.49993968]\n",
            " [0.49994564]\n",
            " [0.5000567 ]\n",
            " [0.49993634]\n",
            " [0.50006825]\n",
            " [0.5000146 ]\n",
            " [0.49995685]\n",
            " [0.49987462]\n",
            " [0.49998534]\n",
            " [0.49993563]\n",
            " [0.50011104]\n",
            " [0.50006616]\n",
            " [0.5000159 ]\n",
            " [0.49991798]]\n"
          ]
        },
        {
          "data": {
            "text/plain": [
              "(array([False,  True]), array([11111, 11090]))"
            ]
          },
          "execution_count": 17,
          "metadata": {},
          "output_type": "execute_result"
        }
      ]
    },
    {
      "cell_type": "code",
      "metadata": {
        "colab": {
          "base_uri": "https://localhost:8080/"
        },
        "id": "9eziQIit2Ob4",
        "outputId": "27ebc78f-387b-4263-f8c6-ba2a0072f42b"
      },
      "source": [
        "model2 = tf.keras.models.Sequential()\n",
        "\n",
        "model2.add(tf.keras.layers.SimpleRNN(units=32,input_shape=(x_Train.shape[1],x_Train.shape[2]),return_sequences=True))\n",
        "model2.add(tf.keras.layers.Dropout(0.2))\n",
        "\n",
        "model2.add(tf.keras.layers.SimpleRNN(units=64))\n",
        "\n",
        "\n",
        "model2.add(tf.keras.layers.Dense(units=32,activation='relu'))\n",
        "\n",
        "\n",
        "model2.add(tf.keras.layers.Dense(units=1,activation='sigmoid')) \n",
        "optimizer = keras.optimizers.Adam(learning_rate=0.0001)\n",
        "model2.compile(optimizer=optimizer,loss='binary_crossentropy',metrics=['accuracy']) \n",
        "\n",
        "# show model2 summary\n",
        "model2.summary()"
      ],
      "execution_count": null,
      "outputs": [
        {
          "output_type": "stream",
          "name": "stdout",
          "text": [
            "Model: \"sequential\"\n",
            "_________________________________________________________________\n",
            " Layer (type)                Output Shape              Param #   \n",
            "=================================================================\n",
            " simple_rnn (SimpleRNN)      (None, 12, 32)            820256    \n",
            "                                                                 \n",
            " dropout (Dropout)           (None, 12, 32)            0         \n",
            "                                                                 \n",
            " simple_rnn_1 (SimpleRNN)    (None, 64)                6208      \n",
            "                                                                 \n",
            " dense (Dense)               (None, 32)                2080      \n",
            "                                                                 \n",
            " dense_1 (Dense)             (None, 1)                 33        \n",
            "                                                                 \n",
            "=================================================================\n",
            "Total params: 828,577\n",
            "Trainable params: 828,577\n",
            "Non-trainable params: 0\n",
            "_________________________________________________________________\n"
          ]
        }
      ]
    },
    {
      "cell_type": "code",
      "metadata": {
        "id": "JQfVpeYA2RKv",
        "colab": {
          "base_uri": "https://localhost:8080/",
          "height": 885
        },
        "outputId": "14651a27-25f4-4a8c-8bce-d8b71b1e227c"
      },
      "source": [
        "model2.fit(x_Train,y_Train,epochs=60,batch_size=32,validation_data=(x_Val,y_Val))\n"
      ],
      "execution_count": null,
      "outputs": [
        {
          "output_type": "stream",
          "name": "stdout",
          "text": [
            "Epoch 1/60\n",
            "84/84 [==============================] - 7s 42ms/step - loss: 0.6935 - accuracy: 0.4944 - val_loss: 0.6932 - val_accuracy: 0.5101\n",
            "Epoch 2/60\n",
            "84/84 [==============================] - 3s 33ms/step - loss: 0.6926 - accuracy: 0.5220 - val_loss: 0.6932 - val_accuracy: 0.5101\n",
            "Epoch 3/60\n",
            "84/84 [==============================] - 3s 35ms/step - loss: 0.6911 - accuracy: 0.5727 - val_loss: 0.6935 - val_accuracy: 0.4899\n",
            "Epoch 4/60\n",
            "84/84 [==============================] - 3s 32ms/step - loss: 0.6839 - accuracy: 0.6137 - val_loss: 0.6978 - val_accuracy: 0.4966\n",
            "Epoch 5/60\n",
            "84/84 [==============================] - 3s 34ms/step - loss: 0.6325 - accuracy: 0.6540 - val_loss: 0.7105 - val_accuracy: 0.5369\n",
            "Epoch 6/60\n",
            "84/84 [==============================] - 3s 33ms/step - loss: 0.5106 - accuracy: 0.7472 - val_loss: 0.8053 - val_accuracy: 0.5034\n",
            "Epoch 7/60\n",
            "84/84 [==============================] - 3s 34ms/step - loss: 0.3886 - accuracy: 0.8195 - val_loss: 0.9736 - val_accuracy: 0.5369\n",
            "Epoch 8/60\n",
            "84/84 [==============================] - 3s 34ms/step - loss: 0.3043 - accuracy: 0.8747 - val_loss: 1.0790 - val_accuracy: 0.5302\n",
            "Epoch 9/60\n",
            "84/84 [==============================] - 3s 34ms/step - loss: 0.2411 - accuracy: 0.9068 - val_loss: 1.3090 - val_accuracy: 0.5101\n",
            "Epoch 10/60\n",
            "84/84 [==============================] - 3s 32ms/step - loss: 0.1833 - accuracy: 0.9348 - val_loss: 1.4217 - val_accuracy: 0.4966\n",
            "Epoch 11/60\n",
            "84/84 [==============================] - 3s 33ms/step - loss: 0.1304 - accuracy: 0.9579 - val_loss: 1.7098 - val_accuracy: 0.4832\n",
            "Epoch 12/60\n",
            "84/84 [==============================] - 3s 34ms/step - loss: 0.0942 - accuracy: 0.9698 - val_loss: 1.9333 - val_accuracy: 0.4832\n",
            "Epoch 13/60\n",
            "84/84 [==============================] - 3s 34ms/step - loss: 0.0578 - accuracy: 0.9862 - val_loss: 2.1718 - val_accuracy: 0.4765\n",
            "Epoch 14/60\n",
            "84/84 [==============================] - 3s 34ms/step - loss: 0.0374 - accuracy: 0.9918 - val_loss: 2.3129 - val_accuracy: 0.4497\n",
            "Epoch 15/60\n",
            "84/84 [==============================] - 3s 34ms/step - loss: 0.0227 - accuracy: 0.9970 - val_loss: 2.4362 - val_accuracy: 0.4832\n",
            "Epoch 16/60\n",
            "84/84 [==============================] - 3s 34ms/step - loss: 0.0217 - accuracy: 0.9955 - val_loss: 2.5517 - val_accuracy: 0.4631\n",
            "Epoch 17/60\n",
            "77/84 [==========================>...] - ETA: 0s - loss: 0.0171 - accuracy: 0.9976"
          ]
        },
        {
          "output_type": "error",
          "ename": "KeyboardInterrupt",
          "evalue": "ignored",
          "traceback": [
            "\u001b[0;31m---------------------------------------------------------------------------\u001b[0m",
            "\u001b[0;31mKeyboardInterrupt\u001b[0m                         Traceback (most recent call last)",
            "\u001b[0;32m<ipython-input-5-0e54429b1b5b>\u001b[0m in \u001b[0;36m<module>\u001b[0;34m()\u001b[0m\n\u001b[0;32m----> 1\u001b[0;31m \u001b[0mmodel2\u001b[0m\u001b[0;34m.\u001b[0m\u001b[0mfit\u001b[0m\u001b[0;34m(\u001b[0m\u001b[0mx_Train\u001b[0m\u001b[0;34m,\u001b[0m\u001b[0my_Train\u001b[0m\u001b[0;34m,\u001b[0m\u001b[0mepochs\u001b[0m\u001b[0;34m=\u001b[0m\u001b[0;36m60\u001b[0m\u001b[0;34m,\u001b[0m\u001b[0mbatch_size\u001b[0m\u001b[0;34m=\u001b[0m\u001b[0;36m32\u001b[0m\u001b[0;34m,\u001b[0m\u001b[0mvalidation_data\u001b[0m\u001b[0;34m=\u001b[0m\u001b[0;34m(\u001b[0m\u001b[0mx_Val\u001b[0m\u001b[0;34m,\u001b[0m\u001b[0my_Val\u001b[0m\u001b[0;34m)\u001b[0m\u001b[0;34m)\u001b[0m\u001b[0;34m\u001b[0m\u001b[0;34m\u001b[0m\u001b[0m\n\u001b[0m",
            "\u001b[0;32m/usr/local/lib/python3.7/dist-packages/keras/utils/traceback_utils.py\u001b[0m in \u001b[0;36merror_handler\u001b[0;34m(*args, **kwargs)\u001b[0m\n\u001b[1;32m     62\u001b[0m     \u001b[0mfiltered_tb\u001b[0m \u001b[0;34m=\u001b[0m \u001b[0;32mNone\u001b[0m\u001b[0;34m\u001b[0m\u001b[0;34m\u001b[0m\u001b[0m\n\u001b[1;32m     63\u001b[0m     \u001b[0;32mtry\u001b[0m\u001b[0;34m:\u001b[0m\u001b[0;34m\u001b[0m\u001b[0;34m\u001b[0m\u001b[0m\n\u001b[0;32m---> 64\u001b[0;31m       \u001b[0;32mreturn\u001b[0m \u001b[0mfn\u001b[0m\u001b[0;34m(\u001b[0m\u001b[0;34m*\u001b[0m\u001b[0margs\u001b[0m\u001b[0;34m,\u001b[0m \u001b[0;34m**\u001b[0m\u001b[0mkwargs\u001b[0m\u001b[0;34m)\u001b[0m\u001b[0;34m\u001b[0m\u001b[0;34m\u001b[0m\u001b[0m\n\u001b[0m\u001b[1;32m     65\u001b[0m     \u001b[0;32mexcept\u001b[0m \u001b[0mException\u001b[0m \u001b[0;32mas\u001b[0m \u001b[0me\u001b[0m\u001b[0;34m:\u001b[0m  \u001b[0;31m# pylint: disable=broad-except\u001b[0m\u001b[0;34m\u001b[0m\u001b[0;34m\u001b[0m\u001b[0m\n\u001b[1;32m     66\u001b[0m       \u001b[0mfiltered_tb\u001b[0m \u001b[0;34m=\u001b[0m \u001b[0m_process_traceback_frames\u001b[0m\u001b[0;34m(\u001b[0m\u001b[0me\u001b[0m\u001b[0;34m.\u001b[0m\u001b[0m__traceback__\u001b[0m\u001b[0;34m)\u001b[0m\u001b[0;34m\u001b[0m\u001b[0;34m\u001b[0m\u001b[0m\n",
            "\u001b[0;32m/usr/local/lib/python3.7/dist-packages/keras/engine/training.py\u001b[0m in \u001b[0;36mfit\u001b[0;34m(self, x, y, batch_size, epochs, verbose, callbacks, validation_split, validation_data, shuffle, class_weight, sample_weight, initial_epoch, steps_per_epoch, validation_steps, validation_batch_size, validation_freq, max_queue_size, workers, use_multiprocessing)\u001b[0m\n\u001b[1;32m   1214\u001b[0m                 _r=1):\n\u001b[1;32m   1215\u001b[0m               \u001b[0mcallbacks\u001b[0m\u001b[0;34m.\u001b[0m\u001b[0mon_train_batch_begin\u001b[0m\u001b[0;34m(\u001b[0m\u001b[0mstep\u001b[0m\u001b[0;34m)\u001b[0m\u001b[0;34m\u001b[0m\u001b[0;34m\u001b[0m\u001b[0m\n\u001b[0;32m-> 1216\u001b[0;31m               \u001b[0mtmp_logs\u001b[0m \u001b[0;34m=\u001b[0m \u001b[0mself\u001b[0m\u001b[0;34m.\u001b[0m\u001b[0mtrain_function\u001b[0m\u001b[0;34m(\u001b[0m\u001b[0miterator\u001b[0m\u001b[0;34m)\u001b[0m\u001b[0;34m\u001b[0m\u001b[0;34m\u001b[0m\u001b[0m\n\u001b[0m\u001b[1;32m   1217\u001b[0m               \u001b[0;32mif\u001b[0m \u001b[0mdata_handler\u001b[0m\u001b[0;34m.\u001b[0m\u001b[0mshould_sync\u001b[0m\u001b[0;34m:\u001b[0m\u001b[0;34m\u001b[0m\u001b[0;34m\u001b[0m\u001b[0m\n\u001b[1;32m   1218\u001b[0m                 \u001b[0mcontext\u001b[0m\u001b[0;34m.\u001b[0m\u001b[0masync_wait\u001b[0m\u001b[0;34m(\u001b[0m\u001b[0;34m)\u001b[0m\u001b[0;34m\u001b[0m\u001b[0;34m\u001b[0m\u001b[0m\n",
            "\u001b[0;32m/usr/local/lib/python3.7/dist-packages/tensorflow/python/util/traceback_utils.py\u001b[0m in \u001b[0;36merror_handler\u001b[0;34m(*args, **kwargs)\u001b[0m\n\u001b[1;32m    148\u001b[0m     \u001b[0mfiltered_tb\u001b[0m \u001b[0;34m=\u001b[0m \u001b[0;32mNone\u001b[0m\u001b[0;34m\u001b[0m\u001b[0;34m\u001b[0m\u001b[0m\n\u001b[1;32m    149\u001b[0m     \u001b[0;32mtry\u001b[0m\u001b[0;34m:\u001b[0m\u001b[0;34m\u001b[0m\u001b[0;34m\u001b[0m\u001b[0m\n\u001b[0;32m--> 150\u001b[0;31m       \u001b[0;32mreturn\u001b[0m \u001b[0mfn\u001b[0m\u001b[0;34m(\u001b[0m\u001b[0;34m*\u001b[0m\u001b[0margs\u001b[0m\u001b[0;34m,\u001b[0m \u001b[0;34m**\u001b[0m\u001b[0mkwargs\u001b[0m\u001b[0;34m)\u001b[0m\u001b[0;34m\u001b[0m\u001b[0;34m\u001b[0m\u001b[0m\n\u001b[0m\u001b[1;32m    151\u001b[0m     \u001b[0;32mexcept\u001b[0m \u001b[0mException\u001b[0m \u001b[0;32mas\u001b[0m \u001b[0me\u001b[0m\u001b[0;34m:\u001b[0m\u001b[0;34m\u001b[0m\u001b[0;34m\u001b[0m\u001b[0m\n\u001b[1;32m    152\u001b[0m       \u001b[0mfiltered_tb\u001b[0m \u001b[0;34m=\u001b[0m \u001b[0m_process_traceback_frames\u001b[0m\u001b[0;34m(\u001b[0m\u001b[0me\u001b[0m\u001b[0;34m.\u001b[0m\u001b[0m__traceback__\u001b[0m\u001b[0;34m)\u001b[0m\u001b[0;34m\u001b[0m\u001b[0;34m\u001b[0m\u001b[0m\n",
            "\u001b[0;32m/usr/local/lib/python3.7/dist-packages/tensorflow/python/eager/def_function.py\u001b[0m in \u001b[0;36m__call__\u001b[0;34m(self, *args, **kwds)\u001b[0m\n\u001b[1;32m    908\u001b[0m \u001b[0;34m\u001b[0m\u001b[0m\n\u001b[1;32m    909\u001b[0m       \u001b[0;32mwith\u001b[0m \u001b[0mOptionalXlaContext\u001b[0m\u001b[0;34m(\u001b[0m\u001b[0mself\u001b[0m\u001b[0;34m.\u001b[0m\u001b[0m_jit_compile\u001b[0m\u001b[0;34m)\u001b[0m\u001b[0;34m:\u001b[0m\u001b[0;34m\u001b[0m\u001b[0;34m\u001b[0m\u001b[0m\n\u001b[0;32m--> 910\u001b[0;31m         \u001b[0mresult\u001b[0m \u001b[0;34m=\u001b[0m \u001b[0mself\u001b[0m\u001b[0;34m.\u001b[0m\u001b[0m_call\u001b[0m\u001b[0;34m(\u001b[0m\u001b[0;34m*\u001b[0m\u001b[0margs\u001b[0m\u001b[0;34m,\u001b[0m \u001b[0;34m**\u001b[0m\u001b[0mkwds\u001b[0m\u001b[0;34m)\u001b[0m\u001b[0;34m\u001b[0m\u001b[0;34m\u001b[0m\u001b[0m\n\u001b[0m\u001b[1;32m    911\u001b[0m \u001b[0;34m\u001b[0m\u001b[0m\n\u001b[1;32m    912\u001b[0m       \u001b[0mnew_tracing_count\u001b[0m \u001b[0;34m=\u001b[0m \u001b[0mself\u001b[0m\u001b[0;34m.\u001b[0m\u001b[0mexperimental_get_tracing_count\u001b[0m\u001b[0;34m(\u001b[0m\u001b[0;34m)\u001b[0m\u001b[0;34m\u001b[0m\u001b[0;34m\u001b[0m\u001b[0m\n",
            "\u001b[0;32m/usr/local/lib/python3.7/dist-packages/tensorflow/python/eager/def_function.py\u001b[0m in \u001b[0;36m_call\u001b[0;34m(self, *args, **kwds)\u001b[0m\n\u001b[1;32m    940\u001b[0m       \u001b[0;31m# In this case we have created variables on the first call, so we run the\u001b[0m\u001b[0;34m\u001b[0m\u001b[0;34m\u001b[0m\u001b[0;34m\u001b[0m\u001b[0m\n\u001b[1;32m    941\u001b[0m       \u001b[0;31m# defunned version which is guaranteed to never create variables.\u001b[0m\u001b[0;34m\u001b[0m\u001b[0;34m\u001b[0m\u001b[0;34m\u001b[0m\u001b[0m\n\u001b[0;32m--> 942\u001b[0;31m       \u001b[0;32mreturn\u001b[0m \u001b[0mself\u001b[0m\u001b[0;34m.\u001b[0m\u001b[0m_stateless_fn\u001b[0m\u001b[0;34m(\u001b[0m\u001b[0;34m*\u001b[0m\u001b[0margs\u001b[0m\u001b[0;34m,\u001b[0m \u001b[0;34m**\u001b[0m\u001b[0mkwds\u001b[0m\u001b[0;34m)\u001b[0m  \u001b[0;31m# pylint: disable=not-callable\u001b[0m\u001b[0;34m\u001b[0m\u001b[0;34m\u001b[0m\u001b[0m\n\u001b[0m\u001b[1;32m    943\u001b[0m     \u001b[0;32melif\u001b[0m \u001b[0mself\u001b[0m\u001b[0;34m.\u001b[0m\u001b[0m_stateful_fn\u001b[0m \u001b[0;32mis\u001b[0m \u001b[0;32mnot\u001b[0m \u001b[0;32mNone\u001b[0m\u001b[0;34m:\u001b[0m\u001b[0;34m\u001b[0m\u001b[0;34m\u001b[0m\u001b[0m\n\u001b[1;32m    944\u001b[0m       \u001b[0;31m# Release the lock early so that multiple threads can perform the call\u001b[0m\u001b[0;34m\u001b[0m\u001b[0;34m\u001b[0m\u001b[0;34m\u001b[0m\u001b[0m\n",
            "\u001b[0;32m/usr/local/lib/python3.7/dist-packages/tensorflow/python/eager/function.py\u001b[0m in \u001b[0;36m__call__\u001b[0;34m(self, *args, **kwargs)\u001b[0m\n\u001b[1;32m   3129\u001b[0m        filtered_flat_args) = self._maybe_define_function(args, kwargs)\n\u001b[1;32m   3130\u001b[0m     return graph_function._call_flat(\n\u001b[0;32m-> 3131\u001b[0;31m         filtered_flat_args, captured_inputs=graph_function.captured_inputs)  # pylint: disable=protected-access\n\u001b[0m\u001b[1;32m   3132\u001b[0m \u001b[0;34m\u001b[0m\u001b[0m\n\u001b[1;32m   3133\u001b[0m   \u001b[0;34m@\u001b[0m\u001b[0mproperty\u001b[0m\u001b[0;34m\u001b[0m\u001b[0;34m\u001b[0m\u001b[0m\n",
            "\u001b[0;32m/usr/local/lib/python3.7/dist-packages/tensorflow/python/eager/function.py\u001b[0m in \u001b[0;36m_call_flat\u001b[0;34m(self, args, captured_inputs, cancellation_manager)\u001b[0m\n\u001b[1;32m   1958\u001b[0m       \u001b[0;31m# No tape is watching; skip to running the function.\u001b[0m\u001b[0;34m\u001b[0m\u001b[0;34m\u001b[0m\u001b[0;34m\u001b[0m\u001b[0m\n\u001b[1;32m   1959\u001b[0m       return self._build_call_outputs(self._inference_function.call(\n\u001b[0;32m-> 1960\u001b[0;31m           ctx, args, cancellation_manager=cancellation_manager))\n\u001b[0m\u001b[1;32m   1961\u001b[0m     forward_backward = self._select_forward_and_backward_functions(\n\u001b[1;32m   1962\u001b[0m         \u001b[0margs\u001b[0m\u001b[0;34m,\u001b[0m\u001b[0;34m\u001b[0m\u001b[0;34m\u001b[0m\u001b[0m\n",
            "\u001b[0;32m/usr/local/lib/python3.7/dist-packages/tensorflow/python/eager/function.py\u001b[0m in \u001b[0;36mcall\u001b[0;34m(self, ctx, args, cancellation_manager)\u001b[0m\n\u001b[1;32m    601\u001b[0m               \u001b[0minputs\u001b[0m\u001b[0;34m=\u001b[0m\u001b[0margs\u001b[0m\u001b[0;34m,\u001b[0m\u001b[0;34m\u001b[0m\u001b[0;34m\u001b[0m\u001b[0m\n\u001b[1;32m    602\u001b[0m               \u001b[0mattrs\u001b[0m\u001b[0;34m=\u001b[0m\u001b[0mattrs\u001b[0m\u001b[0;34m,\u001b[0m\u001b[0;34m\u001b[0m\u001b[0;34m\u001b[0m\u001b[0m\n\u001b[0;32m--> 603\u001b[0;31m               ctx=ctx)\n\u001b[0m\u001b[1;32m    604\u001b[0m         \u001b[0;32melse\u001b[0m\u001b[0;34m:\u001b[0m\u001b[0;34m\u001b[0m\u001b[0;34m\u001b[0m\u001b[0m\n\u001b[1;32m    605\u001b[0m           outputs = execute.execute_with_cancellation(\n",
            "\u001b[0;32m/usr/local/lib/python3.7/dist-packages/tensorflow/python/eager/execute.py\u001b[0m in \u001b[0;36mquick_execute\u001b[0;34m(op_name, num_outputs, inputs, attrs, ctx, name)\u001b[0m\n\u001b[1;32m     57\u001b[0m     \u001b[0mctx\u001b[0m\u001b[0;34m.\u001b[0m\u001b[0mensure_initialized\u001b[0m\u001b[0;34m(\u001b[0m\u001b[0;34m)\u001b[0m\u001b[0;34m\u001b[0m\u001b[0;34m\u001b[0m\u001b[0m\n\u001b[1;32m     58\u001b[0m     tensors = pywrap_tfe.TFE_Py_Execute(ctx._handle, device_name, op_name,\n\u001b[0;32m---> 59\u001b[0;31m                                         inputs, attrs, num_outputs)\n\u001b[0m\u001b[1;32m     60\u001b[0m   \u001b[0;32mexcept\u001b[0m \u001b[0mcore\u001b[0m\u001b[0;34m.\u001b[0m\u001b[0m_NotOkStatusException\u001b[0m \u001b[0;32mas\u001b[0m \u001b[0me\u001b[0m\u001b[0;34m:\u001b[0m\u001b[0;34m\u001b[0m\u001b[0;34m\u001b[0m\u001b[0m\n\u001b[1;32m     61\u001b[0m     \u001b[0;32mif\u001b[0m \u001b[0mname\u001b[0m \u001b[0;32mis\u001b[0m \u001b[0;32mnot\u001b[0m \u001b[0;32mNone\u001b[0m\u001b[0;34m:\u001b[0m\u001b[0;34m\u001b[0m\u001b[0;34m\u001b[0m\u001b[0m\n",
            "\u001b[0;31mKeyboardInterrupt\u001b[0m: "
          ]
        }
      ]
    },
    {
      "cell_type": "code",
      "metadata": {
        "colab": {
          "base_uri": "https://localhost:8080/"
        },
        "id": "HXr9-uuctnL4",
        "outputId": "210307ae-e630-4920-8e66-8692108d8dd7"
      },
      "source": [
        "model3 = tf.keras.models.Sequential()\n",
        "\n",
        "model3.add(tf.keras.layers.SimpleRNN(units=64,input_shape=(x_Train.shape[1],x_Train.shape[2]),return_sequences=True))\n",
        "\n",
        "model3.add(tf.keras.layers.SimpleRNN(units=64,recurrent_dropout=0.2)) \n",
        "model3.add(tf.keras.layers.Dense(units=64,activation='relu'))\n",
        "model3.add(tf.keras.layers.Dropout(0.3))\n",
        "\n",
        "\n",
        "optimizer = keras.optimizers.Adam(learning_rate=0.0001)\n",
        "model3.add(tf.keras.layers.Dense(units=1,activation='sigmoid'))\n",
        "model3.compile(optimizer=optimizer,loss='binary_crossentropy',metrics=['accuracy'])\n",
        "\n",
        "\n",
        "model3.summary()"
      ],
      "execution_count": null,
      "outputs": [
        {
          "output_type": "stream",
          "name": "stdout",
          "text": [
            "Model: \"sequential_1\"\n",
            "_________________________________________________________________\n",
            " Layer (type)                Output Shape              Param #   \n",
            "=================================================================\n",
            " simple_rnn_2 (SimpleRNN)    (None, 12, 64)            1642560   \n",
            "                                                                 \n",
            " simple_rnn_3 (SimpleRNN)    (None, 64)                8256      \n",
            "                                                                 \n",
            " dense_2 (Dense)             (None, 64)                4160      \n",
            "                                                                 \n",
            " dropout_1 (Dropout)         (None, 64)                0         \n",
            "                                                                 \n",
            " dense_3 (Dense)             (None, 1)                 65        \n",
            "                                                                 \n",
            "=================================================================\n",
            "Total params: 1,655,041\n",
            "Trainable params: 1,655,041\n",
            "Non-trainable params: 0\n",
            "_________________________________________________________________\n"
          ]
        }
      ]
    },
    {
      "cell_type": "code",
      "metadata": {
        "colab": {
          "base_uri": "https://localhost:8080/",
          "height": 1000
        },
        "id": "8Tv1gfrxttnA",
        "outputId": "9f24536f-92c4-4489-c5ad-821ae188031f"
      },
      "source": [
        "model3.fit(x_Train,y_Train,epochs=100,batch_size=64,validation_data=(x_Val,y_Val), callbacks=callback)"
      ],
      "execution_count": null,
      "outputs": [
        {
          "output_type": "stream",
          "name": "stdout",
          "text": [
            "Epoch 1/100\n",
            "42/42 [==============================] - 4s 63ms/step - loss: 0.6933 - accuracy: 0.5037 - val_loss: 0.6931 - val_accuracy: 0.5101\n",
            "Epoch 2/100\n",
            "42/42 [==============================] - 2s 49ms/step - loss: 0.6932 - accuracy: 0.5011 - val_loss: 0.6932 - val_accuracy: 0.4765\n",
            "Epoch 3/100\n",
            "42/42 [==============================] - 2s 49ms/step - loss: 0.6928 - accuracy: 0.5071 - val_loss: 0.6932 - val_accuracy: 0.5034\n",
            "Epoch 4/100\n",
            "42/42 [==============================] - 2s 49ms/step - loss: 0.6931 - accuracy: 0.4981 - val_loss: 0.6932 - val_accuracy: 0.5034\n",
            "Epoch 5/100\n",
            "42/42 [==============================] - 2s 49ms/step - loss: 0.6921 - accuracy: 0.5254 - val_loss: 0.6932 - val_accuracy: 0.5101\n",
            "Epoch 6/100\n",
            "42/42 [==============================] - 2s 49ms/step - loss: 0.6927 - accuracy: 0.5045 - val_loss: 0.6933 - val_accuracy: 0.4832\n",
            "Epoch 7/100\n",
            "42/42 [==============================] - 2s 48ms/step - loss: 0.6916 - accuracy: 0.5354 - val_loss: 0.6930 - val_accuracy: 0.5101\n",
            "Epoch 8/100\n",
            "42/42 [==============================] - 2s 50ms/step - loss: 0.6911 - accuracy: 0.5321 - val_loss: 0.6929 - val_accuracy: 0.5034\n",
            "Epoch 9/100\n",
            "42/42 [==============================] - 2s 49ms/step - loss: 0.6886 - accuracy: 0.5548 - val_loss: 0.6927 - val_accuracy: 0.5101\n",
            "Epoch 10/100\n",
            "42/42 [==============================] - 2s 51ms/step - loss: 0.6843 - accuracy: 0.5966 - val_loss: 0.6919 - val_accuracy: 0.5168\n",
            "Epoch 11/100\n",
            "42/42 [==============================] - 2s 47ms/step - loss: 0.6584 - accuracy: 0.6588 - val_loss: 0.6908 - val_accuracy: 0.5369\n",
            "Epoch 12/100\n",
            "42/42 [==============================] - 2s 47ms/step - loss: 0.5640 - accuracy: 0.7170 - val_loss: 0.7425 - val_accuracy: 0.5570\n",
            "Epoch 13/100\n",
            "42/42 [==============================] - 2s 50ms/step - loss: 0.4269 - accuracy: 0.8046 - val_loss: 0.9043 - val_accuracy: 0.4966\n",
            "Epoch 14/100\n",
            "42/42 [==============================] - 2s 51ms/step - loss: 0.3328 - accuracy: 0.8606 - val_loss: 0.9950 - val_accuracy: 0.5034\n",
            "Epoch 15/100\n",
            "42/42 [==============================] - 2s 51ms/step - loss: 0.2387 - accuracy: 0.9053 - val_loss: 1.2302 - val_accuracy: 0.5503\n",
            "Epoch 16/100\n",
            "42/42 [==============================] - 2s 49ms/step - loss: 0.1764 - accuracy: 0.9303 - val_loss: 1.4170 - val_accuracy: 0.5302\n",
            "Epoch 17/100\n",
            "42/42 [==============================] - 2s 50ms/step - loss: 0.1374 - accuracy: 0.9519 - val_loss: 1.6626 - val_accuracy: 0.4765\n",
            "Epoch 18/100\n",
            "42/42 [==============================] - 2s 49ms/step - loss: 0.1131 - accuracy: 0.9605 - val_loss: 1.6274 - val_accuracy: 0.5302\n",
            "Epoch 19/100\n",
            "42/42 [==============================] - 2s 51ms/step - loss: 0.0719 - accuracy: 0.9787 - val_loss: 1.7557 - val_accuracy: 0.5570\n",
            "Epoch 20/100\n",
            "42/42 [==============================] - 2s 49ms/step - loss: 0.0470 - accuracy: 0.9899 - val_loss: 1.9457 - val_accuracy: 0.5570\n",
            "Epoch 21/100\n",
            "42/42 [==============================] - 2s 48ms/step - loss: 0.0650 - accuracy: 0.9776 - val_loss: 2.0428 - val_accuracy: 0.5034\n",
            "Epoch 22/100\n",
            "42/42 [==============================] - 2s 48ms/step - loss: 0.0518 - accuracy: 0.9832 - val_loss: 2.0287 - val_accuracy: 0.5436\n",
            "Epoch 23/100\n",
            "42/42 [==============================] - 2s 47ms/step - loss: 0.0289 - accuracy: 0.9937 - val_loss: 2.1200 - val_accuracy: 0.5436\n",
            "Epoch 24/100\n",
            "42/42 [==============================] - 2s 49ms/step - loss: 0.0285 - accuracy: 0.9925 - val_loss: 2.2950 - val_accuracy: 0.5436\n",
            "Epoch 25/100\n",
            "42/42 [==============================] - 2s 48ms/step - loss: 0.0138 - accuracy: 0.9989 - val_loss: 2.4959 - val_accuracy: 0.5168\n",
            "Epoch 26/100\n",
            "42/42 [==============================] - 2s 50ms/step - loss: 0.0097 - accuracy: 0.9989 - val_loss: 2.5923 - val_accuracy: 0.5168\n",
            "Epoch 27/100\n",
            "42/42 [==============================] - 2s 50ms/step - loss: 0.0072 - accuracy: 0.9993 - val_loss: 2.6495 - val_accuracy: 0.5101\n",
            "Epoch 28/100\n",
            "42/42 [==============================] - 2s 50ms/step - loss: 0.0053 - accuracy: 0.9996 - val_loss: 2.7617 - val_accuracy: 0.5101\n",
            "Epoch 29/100\n",
            "42/42 [==============================] - 2s 48ms/step - loss: 0.0042 - accuracy: 1.0000 - val_loss: 2.8560 - val_accuracy: 0.5168\n",
            "Epoch 30/100\n",
            "42/42 [==============================] - 2s 48ms/step - loss: 0.0048 - accuracy: 0.9993 - val_loss: 2.8769 - val_accuracy: 0.5235\n",
            "Epoch 31/100\n",
            "42/42 [==============================] - 2s 52ms/step - loss: 0.0059 - accuracy: 0.9985 - val_loss: 2.9447 - val_accuracy: 0.5034\n",
            "Epoch 32/100\n",
            "42/42 [==============================] - 2s 50ms/step - loss: 0.0031 - accuracy: 1.0000 - val_loss: 3.0073 - val_accuracy: 0.5302\n",
            "Epoch 33/100\n",
            "42/42 [==============================] - 2s 50ms/step - loss: 0.0034 - accuracy: 0.9996 - val_loss: 3.0752 - val_accuracy: 0.5235\n",
            "Epoch 34/100\n",
            "42/42 [==============================] - 2s 48ms/step - loss: 0.0028 - accuracy: 1.0000 - val_loss: 3.2267 - val_accuracy: 0.5302\n",
            "Epoch 35/100\n",
            "42/42 [==============================] - 2s 51ms/step - loss: 0.0026 - accuracy: 1.0000 - val_loss: 3.3000 - val_accuracy: 0.5168\n",
            "Epoch 36/100\n",
            "42/42 [==============================] - 2s 48ms/step - loss: 0.0058 - accuracy: 0.9985 - val_loss: 3.3260 - val_accuracy: 0.5101\n",
            "Epoch 37/100\n",
            "42/42 [==============================] - 2s 49ms/step - loss: 0.0231 - accuracy: 0.9911 - val_loss: 3.1862 - val_accuracy: 0.5034\n",
            "Epoch 38/100\n",
            "42/42 [==============================] - 2s 49ms/step - loss: 0.0504 - accuracy: 0.9817 - val_loss: 2.7349 - val_accuracy: 0.5302\n",
            "Epoch 39/100\n",
            "42/42 [==============================] - 2s 51ms/step - loss: 0.0631 - accuracy: 0.9720 - val_loss: 2.8430 - val_accuracy: 0.5570\n",
            "Epoch 40/100\n",
            "42/42 [==============================] - 2s 49ms/step - loss: 0.0257 - accuracy: 0.9922 - val_loss: 2.9773 - val_accuracy: 0.5235\n",
            "Epoch 41/100\n",
            "42/42 [==============================] - 2s 48ms/step - loss: 0.0283 - accuracy: 0.9888 - val_loss: 2.8925 - val_accuracy: 0.5772\n",
            "Epoch 42/100\n",
            "42/42 [==============================] - 2s 48ms/step - loss: 0.0198 - accuracy: 0.9948 - val_loss: 2.8180 - val_accuracy: 0.5839\n",
            "Epoch 43/100\n",
            "42/42 [==============================] - 2s 48ms/step - loss: 0.0100 - accuracy: 0.9974 - val_loss: 2.9167 - val_accuracy: 0.5570\n",
            "Epoch 44/100\n",
            "42/42 [==============================] - 2s 49ms/step - loss: 0.0063 - accuracy: 0.9981 - val_loss: 2.9344 - val_accuracy: 0.5839\n",
            "Epoch 45/100\n",
            "42/42 [==============================] - 2s 49ms/step - loss: 0.0061 - accuracy: 0.9985 - val_loss: 2.9571 - val_accuracy: 0.5638\n",
            "Epoch 46/100\n",
            "42/42 [==============================] - 2s 48ms/step - loss: 0.0024 - accuracy: 1.0000 - val_loss: 2.9880 - val_accuracy: 0.5839\n",
            "Epoch 47/100\n",
            "42/42 [==============================] - 2s 47ms/step - loss: 0.0035 - accuracy: 0.9993 - val_loss: 3.0143 - val_accuracy: 0.5772\n",
            "Epoch 48/100\n",
            "42/42 [==============================] - 2s 51ms/step - loss: 0.0019 - accuracy: 1.0000 - val_loss: 3.0690 - val_accuracy: 0.5839\n",
            "Epoch 49/100\n",
            "42/42 [==============================] - 2s 50ms/step - loss: 0.0019 - accuracy: 1.0000 - val_loss: 3.1578 - val_accuracy: 0.5839\n",
            "Epoch 50/100\n",
            "42/42 [==============================] - 2s 50ms/step - loss: 0.0015 - accuracy: 1.0000 - val_loss: 3.1882 - val_accuracy: 0.5772\n",
            "Epoch 51/100\n",
            "42/42 [==============================] - 2s 51ms/step - loss: 0.0011 - accuracy: 1.0000 - val_loss: 3.1939 - val_accuracy: 0.5839\n",
            "Epoch 52/100\n",
            "42/42 [==============================] - 2s 48ms/step - loss: 9.5908e-04 - accuracy: 1.0000 - val_loss: 3.2287 - val_accuracy: 0.5839\n",
            "Epoch 53/100\n",
            "42/42 [==============================] - 2s 50ms/step - loss: 0.0011 - accuracy: 1.0000 - val_loss: 3.2648 - val_accuracy: 0.5839\n",
            "Epoch 54/100\n",
            "42/42 [==============================] - 2s 47ms/step - loss: 8.9902e-04 - accuracy: 1.0000 - val_loss: 3.2914 - val_accuracy: 0.5839\n",
            "Epoch 55/100\n",
            "42/42 [==============================] - 2s 50ms/step - loss: 7.3641e-04 - accuracy: 1.0000 - val_loss: 3.3204 - val_accuracy: 0.5906\n",
            "Epoch 56/100\n",
            "42/42 [==============================] - 2s 51ms/step - loss: 8.4128e-04 - accuracy: 1.0000 - val_loss: 3.3507 - val_accuracy: 0.5839\n",
            "Epoch 57/100\n",
            "42/42 [==============================] - 2s 48ms/step - loss: 7.3452e-04 - accuracy: 1.0000 - val_loss: 3.3856 - val_accuracy: 0.5705\n",
            "Epoch 58/100\n",
            "42/42 [==============================] - 2s 49ms/step - loss: 6.4555e-04 - accuracy: 1.0000 - val_loss: 3.4144 - val_accuracy: 0.5772\n",
            "Epoch 59/100\n",
            "42/42 [==============================] - 2s 49ms/step - loss: 6.0917e-04 - accuracy: 1.0000 - val_loss: 3.4390 - val_accuracy: 0.5772\n",
            "Epoch 60/100\n",
            "42/42 [==============================] - 2s 49ms/step - loss: 5.9965e-04 - accuracy: 1.0000 - val_loss: 3.4600 - val_accuracy: 0.5839\n",
            "Epoch 61/100\n",
            "42/42 [==============================] - 2s 49ms/step - loss: 7.2481e-04 - accuracy: 1.0000 - val_loss: 3.4925 - val_accuracy: 0.5705\n",
            "Epoch 62/100\n",
            "42/42 [==============================] - 2s 49ms/step - loss: 5.6866e-04 - accuracy: 1.0000 - val_loss: 3.5377 - val_accuracy: 0.5839\n",
            "Epoch 63/100\n",
            "42/42 [==============================] - 2s 49ms/step - loss: 4.9991e-04 - accuracy: 1.0000 - val_loss: 3.5535 - val_accuracy: 0.5705\n",
            "Epoch 64/100\n",
            "42/42 [==============================] - 2s 49ms/step - loss: 5.5364e-04 - accuracy: 1.0000 - val_loss: 3.5663 - val_accuracy: 0.5839\n",
            "Epoch 65/100\n",
            "42/42 [==============================] - 2s 48ms/step - loss: 4.1310e-04 - accuracy: 1.0000 - val_loss: 3.5845 - val_accuracy: 0.5705\n",
            "Epoch 66/100\n",
            "42/42 [==============================] - 2s 50ms/step - loss: 4.9606e-04 - accuracy: 1.0000 - val_loss: 3.6189 - val_accuracy: 0.5772\n",
            "Epoch 67/100\n",
            "42/42 [==============================] - 2s 48ms/step - loss: 3.5645e-04 - accuracy: 1.0000 - val_loss: 3.6324 - val_accuracy: 0.5839\n",
            "Epoch 68/100\n",
            "42/42 [==============================] - 2s 49ms/step - loss: 3.7174e-04 - accuracy: 1.0000 - val_loss: 3.6507 - val_accuracy: 0.5839\n",
            "Epoch 69/100\n",
            "42/42 [==============================] - 2s 48ms/step - loss: 0.0011 - accuracy: 0.9996 - val_loss: 3.5907 - val_accuracy: 0.5503\n",
            "Epoch 70/100\n",
            "42/42 [==============================] - 2s 50ms/step - loss: 6.7741e-04 - accuracy: 1.0000 - val_loss: 3.6533 - val_accuracy: 0.5906\n",
            "Epoch 71/100\n",
            "42/42 [==============================] - 2s 48ms/step - loss: 5.0568e-04 - accuracy: 1.0000 - val_loss: 3.6685 - val_accuracy: 0.5973\n",
            "Epoch 72/100\n",
            "42/42 [==============================] - 2s 48ms/step - loss: 8.8190e-04 - accuracy: 1.0000 - val_loss: 3.6804 - val_accuracy: 0.5906\n",
            "Epoch 73/100\n",
            "42/42 [==============================] - 2s 50ms/step - loss: 8.5669e-04 - accuracy: 1.0000 - val_loss: 3.6852 - val_accuracy: 0.5772\n",
            "Epoch 74/100\n",
            "42/42 [==============================] - 2s 49ms/step - loss: 3.9945e-04 - accuracy: 1.0000 - val_loss: 3.7227 - val_accuracy: 0.5839\n",
            "Epoch 75/100\n",
            "42/42 [==============================] - 2s 49ms/step - loss: 3.7746e-04 - accuracy: 1.0000 - val_loss: 3.7428 - val_accuracy: 0.5839\n",
            "Epoch 76/100\n",
            "42/42 [==============================] - 2s 48ms/step - loss: 3.4759e-04 - accuracy: 1.0000 - val_loss: 3.7598 - val_accuracy: 0.5839\n",
            "Epoch 77/100\n",
            "42/42 [==============================] - 2s 50ms/step - loss: 3.1338e-04 - accuracy: 1.0000 - val_loss: 3.7876 - val_accuracy: 0.5839\n",
            "Epoch 78/100\n",
            "42/42 [==============================] - 2s 49ms/step - loss: 2.3261e-04 - accuracy: 1.0000 - val_loss: 3.8083 - val_accuracy: 0.5839\n",
            "Epoch 79/100\n",
            "42/42 [==============================] - 2s 48ms/step - loss: 2.5912e-04 - accuracy: 1.0000 - val_loss: 3.8110 - val_accuracy: 0.5839\n",
            "Epoch 80/100\n",
            "42/42 [==============================] - 2s 50ms/step - loss: 2.4500e-04 - accuracy: 1.0000 - val_loss: 3.8241 - val_accuracy: 0.5839\n",
            "Epoch 81/100\n",
            "42/42 [==============================] - 2s 50ms/step - loss: 2.2079e-04 - accuracy: 1.0000 - val_loss: 3.8390 - val_accuracy: 0.5906\n",
            "Epoch 82/100\n",
            "42/42 [==============================] - 2s 49ms/step - loss: 1.9163e-04 - accuracy: 1.0000 - val_loss: 3.8596 - val_accuracy: 0.5906\n",
            "Epoch 83/100\n",
            "42/42 [==============================] - 2s 48ms/step - loss: 1.9729e-04 - accuracy: 1.0000 - val_loss: 3.8906 - val_accuracy: 0.5839\n",
            "Epoch 84/100\n",
            "42/42 [==============================] - 2s 46ms/step - loss: 2.1645e-04 - accuracy: 1.0000 - val_loss: 3.9012 - val_accuracy: 0.5772\n",
            "Epoch 85/100\n",
            "42/42 [==============================] - 2s 48ms/step - loss: 1.8498e-04 - accuracy: 1.0000 - val_loss: 3.9166 - val_accuracy: 0.5839\n",
            "Epoch 86/100\n",
            " 8/42 [====>.........................] - ETA: 1s - loss: 1.6439e-04 - accuracy: 1.0000"
          ]
        },
        {
          "output_type": "error",
          "ename": "KeyboardInterrupt",
          "evalue": "ignored",
          "traceback": [
            "\u001b[0;31m---------------------------------------------------------------------------\u001b[0m",
            "\u001b[0;31mKeyboardInterrupt\u001b[0m                         Traceback (most recent call last)",
            "\u001b[0;32m<ipython-input-7-dbe1b7235614>\u001b[0m in \u001b[0;36m<module>\u001b[0;34m()\u001b[0m\n\u001b[0;32m----> 1\u001b[0;31m \u001b[0mmodel3\u001b[0m\u001b[0;34m.\u001b[0m\u001b[0mfit\u001b[0m\u001b[0;34m(\u001b[0m\u001b[0mx_Train\u001b[0m\u001b[0;34m,\u001b[0m\u001b[0my_Train\u001b[0m\u001b[0;34m,\u001b[0m\u001b[0mepochs\u001b[0m\u001b[0;34m=\u001b[0m\u001b[0;36m100\u001b[0m\u001b[0;34m,\u001b[0m\u001b[0mbatch_size\u001b[0m\u001b[0;34m=\u001b[0m\u001b[0;36m64\u001b[0m\u001b[0;34m,\u001b[0m\u001b[0mvalidation_data\u001b[0m\u001b[0;34m=\u001b[0m\u001b[0;34m(\u001b[0m\u001b[0mx_Val\u001b[0m\u001b[0;34m,\u001b[0m\u001b[0my_Val\u001b[0m\u001b[0;34m)\u001b[0m\u001b[0;34m)\u001b[0m\u001b[0;34m\u001b[0m\u001b[0;34m\u001b[0m\u001b[0m\n\u001b[0m",
            "\u001b[0;32m/usr/local/lib/python3.7/dist-packages/keras/utils/traceback_utils.py\u001b[0m in \u001b[0;36merror_handler\u001b[0;34m(*args, **kwargs)\u001b[0m\n\u001b[1;32m     62\u001b[0m     \u001b[0mfiltered_tb\u001b[0m \u001b[0;34m=\u001b[0m \u001b[0;32mNone\u001b[0m\u001b[0;34m\u001b[0m\u001b[0;34m\u001b[0m\u001b[0m\n\u001b[1;32m     63\u001b[0m     \u001b[0;32mtry\u001b[0m\u001b[0;34m:\u001b[0m\u001b[0;34m\u001b[0m\u001b[0;34m\u001b[0m\u001b[0m\n\u001b[0;32m---> 64\u001b[0;31m       \u001b[0;32mreturn\u001b[0m \u001b[0mfn\u001b[0m\u001b[0;34m(\u001b[0m\u001b[0;34m*\u001b[0m\u001b[0margs\u001b[0m\u001b[0;34m,\u001b[0m \u001b[0;34m**\u001b[0m\u001b[0mkwargs\u001b[0m\u001b[0;34m)\u001b[0m\u001b[0;34m\u001b[0m\u001b[0;34m\u001b[0m\u001b[0m\n\u001b[0m\u001b[1;32m     65\u001b[0m     \u001b[0;32mexcept\u001b[0m \u001b[0mException\u001b[0m \u001b[0;32mas\u001b[0m \u001b[0me\u001b[0m\u001b[0;34m:\u001b[0m  \u001b[0;31m# pylint: disable=broad-except\u001b[0m\u001b[0;34m\u001b[0m\u001b[0;34m\u001b[0m\u001b[0m\n\u001b[1;32m     66\u001b[0m       \u001b[0mfiltered_tb\u001b[0m \u001b[0;34m=\u001b[0m \u001b[0m_process_traceback_frames\u001b[0m\u001b[0;34m(\u001b[0m\u001b[0me\u001b[0m\u001b[0;34m.\u001b[0m\u001b[0m__traceback__\u001b[0m\u001b[0;34m)\u001b[0m\u001b[0;34m\u001b[0m\u001b[0;34m\u001b[0m\u001b[0m\n",
            "\u001b[0;32m/usr/local/lib/python3.7/dist-packages/keras/engine/training.py\u001b[0m in \u001b[0;36mfit\u001b[0;34m(self, x, y, batch_size, epochs, verbose, callbacks, validation_split, validation_data, shuffle, class_weight, sample_weight, initial_epoch, steps_per_epoch, validation_steps, validation_batch_size, validation_freq, max_queue_size, workers, use_multiprocessing)\u001b[0m\n\u001b[1;32m   1214\u001b[0m                 _r=1):\n\u001b[1;32m   1215\u001b[0m               \u001b[0mcallbacks\u001b[0m\u001b[0;34m.\u001b[0m\u001b[0mon_train_batch_begin\u001b[0m\u001b[0;34m(\u001b[0m\u001b[0mstep\u001b[0m\u001b[0;34m)\u001b[0m\u001b[0;34m\u001b[0m\u001b[0;34m\u001b[0m\u001b[0m\n\u001b[0;32m-> 1216\u001b[0;31m               \u001b[0mtmp_logs\u001b[0m \u001b[0;34m=\u001b[0m \u001b[0mself\u001b[0m\u001b[0;34m.\u001b[0m\u001b[0mtrain_function\u001b[0m\u001b[0;34m(\u001b[0m\u001b[0miterator\u001b[0m\u001b[0;34m)\u001b[0m\u001b[0;34m\u001b[0m\u001b[0;34m\u001b[0m\u001b[0m\n\u001b[0m\u001b[1;32m   1217\u001b[0m               \u001b[0;32mif\u001b[0m \u001b[0mdata_handler\u001b[0m\u001b[0;34m.\u001b[0m\u001b[0mshould_sync\u001b[0m\u001b[0;34m:\u001b[0m\u001b[0;34m\u001b[0m\u001b[0;34m\u001b[0m\u001b[0m\n\u001b[1;32m   1218\u001b[0m                 \u001b[0mcontext\u001b[0m\u001b[0;34m.\u001b[0m\u001b[0masync_wait\u001b[0m\u001b[0;34m(\u001b[0m\u001b[0;34m)\u001b[0m\u001b[0;34m\u001b[0m\u001b[0;34m\u001b[0m\u001b[0m\n",
            "\u001b[0;32m/usr/local/lib/python3.7/dist-packages/tensorflow/python/util/traceback_utils.py\u001b[0m in \u001b[0;36merror_handler\u001b[0;34m(*args, **kwargs)\u001b[0m\n\u001b[1;32m    148\u001b[0m     \u001b[0mfiltered_tb\u001b[0m \u001b[0;34m=\u001b[0m \u001b[0;32mNone\u001b[0m\u001b[0;34m\u001b[0m\u001b[0;34m\u001b[0m\u001b[0m\n\u001b[1;32m    149\u001b[0m     \u001b[0;32mtry\u001b[0m\u001b[0;34m:\u001b[0m\u001b[0;34m\u001b[0m\u001b[0;34m\u001b[0m\u001b[0m\n\u001b[0;32m--> 150\u001b[0;31m       \u001b[0;32mreturn\u001b[0m \u001b[0mfn\u001b[0m\u001b[0;34m(\u001b[0m\u001b[0;34m*\u001b[0m\u001b[0margs\u001b[0m\u001b[0;34m,\u001b[0m \u001b[0;34m**\u001b[0m\u001b[0mkwargs\u001b[0m\u001b[0;34m)\u001b[0m\u001b[0;34m\u001b[0m\u001b[0;34m\u001b[0m\u001b[0m\n\u001b[0m\u001b[1;32m    151\u001b[0m     \u001b[0;32mexcept\u001b[0m \u001b[0mException\u001b[0m \u001b[0;32mas\u001b[0m \u001b[0me\u001b[0m\u001b[0;34m:\u001b[0m\u001b[0;34m\u001b[0m\u001b[0;34m\u001b[0m\u001b[0m\n\u001b[1;32m    152\u001b[0m       \u001b[0mfiltered_tb\u001b[0m \u001b[0;34m=\u001b[0m \u001b[0m_process_traceback_frames\u001b[0m\u001b[0;34m(\u001b[0m\u001b[0me\u001b[0m\u001b[0;34m.\u001b[0m\u001b[0m__traceback__\u001b[0m\u001b[0;34m)\u001b[0m\u001b[0;34m\u001b[0m\u001b[0;34m\u001b[0m\u001b[0m\n",
            "\u001b[0;32m/usr/local/lib/python3.7/dist-packages/tensorflow/python/eager/def_function.py\u001b[0m in \u001b[0;36m__call__\u001b[0;34m(self, *args, **kwds)\u001b[0m\n\u001b[1;32m    908\u001b[0m \u001b[0;34m\u001b[0m\u001b[0m\n\u001b[1;32m    909\u001b[0m       \u001b[0;32mwith\u001b[0m \u001b[0mOptionalXlaContext\u001b[0m\u001b[0;34m(\u001b[0m\u001b[0mself\u001b[0m\u001b[0;34m.\u001b[0m\u001b[0m_jit_compile\u001b[0m\u001b[0;34m)\u001b[0m\u001b[0;34m:\u001b[0m\u001b[0;34m\u001b[0m\u001b[0;34m\u001b[0m\u001b[0m\n\u001b[0;32m--> 910\u001b[0;31m         \u001b[0mresult\u001b[0m \u001b[0;34m=\u001b[0m \u001b[0mself\u001b[0m\u001b[0;34m.\u001b[0m\u001b[0m_call\u001b[0m\u001b[0;34m(\u001b[0m\u001b[0;34m*\u001b[0m\u001b[0margs\u001b[0m\u001b[0;34m,\u001b[0m \u001b[0;34m**\u001b[0m\u001b[0mkwds\u001b[0m\u001b[0;34m)\u001b[0m\u001b[0;34m\u001b[0m\u001b[0;34m\u001b[0m\u001b[0m\n\u001b[0m\u001b[1;32m    911\u001b[0m \u001b[0;34m\u001b[0m\u001b[0m\n\u001b[1;32m    912\u001b[0m       \u001b[0mnew_tracing_count\u001b[0m \u001b[0;34m=\u001b[0m \u001b[0mself\u001b[0m\u001b[0;34m.\u001b[0m\u001b[0mexperimental_get_tracing_count\u001b[0m\u001b[0;34m(\u001b[0m\u001b[0;34m)\u001b[0m\u001b[0;34m\u001b[0m\u001b[0;34m\u001b[0m\u001b[0m\n",
            "\u001b[0;32m/usr/local/lib/python3.7/dist-packages/tensorflow/python/eager/def_function.py\u001b[0m in \u001b[0;36m_call\u001b[0;34m(self, *args, **kwds)\u001b[0m\n\u001b[1;32m    940\u001b[0m       \u001b[0;31m# In this case we have created variables on the first call, so we run the\u001b[0m\u001b[0;34m\u001b[0m\u001b[0;34m\u001b[0m\u001b[0;34m\u001b[0m\u001b[0m\n\u001b[1;32m    941\u001b[0m       \u001b[0;31m# defunned version which is guaranteed to never create variables.\u001b[0m\u001b[0;34m\u001b[0m\u001b[0;34m\u001b[0m\u001b[0;34m\u001b[0m\u001b[0m\n\u001b[0;32m--> 942\u001b[0;31m       \u001b[0;32mreturn\u001b[0m \u001b[0mself\u001b[0m\u001b[0;34m.\u001b[0m\u001b[0m_stateless_fn\u001b[0m\u001b[0;34m(\u001b[0m\u001b[0;34m*\u001b[0m\u001b[0margs\u001b[0m\u001b[0;34m,\u001b[0m \u001b[0;34m**\u001b[0m\u001b[0mkwds\u001b[0m\u001b[0;34m)\u001b[0m  \u001b[0;31m# pylint: disable=not-callable\u001b[0m\u001b[0;34m\u001b[0m\u001b[0;34m\u001b[0m\u001b[0m\n\u001b[0m\u001b[1;32m    943\u001b[0m     \u001b[0;32melif\u001b[0m \u001b[0mself\u001b[0m\u001b[0;34m.\u001b[0m\u001b[0m_stateful_fn\u001b[0m \u001b[0;32mis\u001b[0m \u001b[0;32mnot\u001b[0m \u001b[0;32mNone\u001b[0m\u001b[0;34m:\u001b[0m\u001b[0;34m\u001b[0m\u001b[0;34m\u001b[0m\u001b[0m\n\u001b[1;32m    944\u001b[0m       \u001b[0;31m# Release the lock early so that multiple threads can perform the call\u001b[0m\u001b[0;34m\u001b[0m\u001b[0;34m\u001b[0m\u001b[0;34m\u001b[0m\u001b[0m\n",
            "\u001b[0;32m/usr/local/lib/python3.7/dist-packages/tensorflow/python/eager/function.py\u001b[0m in \u001b[0;36m__call__\u001b[0;34m(self, *args, **kwargs)\u001b[0m\n\u001b[1;32m   3129\u001b[0m        filtered_flat_args) = self._maybe_define_function(args, kwargs)\n\u001b[1;32m   3130\u001b[0m     return graph_function._call_flat(\n\u001b[0;32m-> 3131\u001b[0;31m         filtered_flat_args, captured_inputs=graph_function.captured_inputs)  # pylint: disable=protected-access\n\u001b[0m\u001b[1;32m   3132\u001b[0m \u001b[0;34m\u001b[0m\u001b[0m\n\u001b[1;32m   3133\u001b[0m   \u001b[0;34m@\u001b[0m\u001b[0mproperty\u001b[0m\u001b[0;34m\u001b[0m\u001b[0;34m\u001b[0m\u001b[0m\n",
            "\u001b[0;32m/usr/local/lib/python3.7/dist-packages/tensorflow/python/eager/function.py\u001b[0m in \u001b[0;36m_call_flat\u001b[0;34m(self, args, captured_inputs, cancellation_manager)\u001b[0m\n\u001b[1;32m   1958\u001b[0m       \u001b[0;31m# No tape is watching; skip to running the function.\u001b[0m\u001b[0;34m\u001b[0m\u001b[0;34m\u001b[0m\u001b[0;34m\u001b[0m\u001b[0m\n\u001b[1;32m   1959\u001b[0m       return self._build_call_outputs(self._inference_function.call(\n\u001b[0;32m-> 1960\u001b[0;31m           ctx, args, cancellation_manager=cancellation_manager))\n\u001b[0m\u001b[1;32m   1961\u001b[0m     forward_backward = self._select_forward_and_backward_functions(\n\u001b[1;32m   1962\u001b[0m         \u001b[0margs\u001b[0m\u001b[0;34m,\u001b[0m\u001b[0;34m\u001b[0m\u001b[0;34m\u001b[0m\u001b[0m\n",
            "\u001b[0;32m/usr/local/lib/python3.7/dist-packages/tensorflow/python/eager/function.py\u001b[0m in \u001b[0;36mcall\u001b[0;34m(self, ctx, args, cancellation_manager)\u001b[0m\n\u001b[1;32m    601\u001b[0m               \u001b[0minputs\u001b[0m\u001b[0;34m=\u001b[0m\u001b[0margs\u001b[0m\u001b[0;34m,\u001b[0m\u001b[0;34m\u001b[0m\u001b[0;34m\u001b[0m\u001b[0m\n\u001b[1;32m    602\u001b[0m               \u001b[0mattrs\u001b[0m\u001b[0;34m=\u001b[0m\u001b[0mattrs\u001b[0m\u001b[0;34m,\u001b[0m\u001b[0;34m\u001b[0m\u001b[0;34m\u001b[0m\u001b[0m\n\u001b[0;32m--> 603\u001b[0;31m               ctx=ctx)\n\u001b[0m\u001b[1;32m    604\u001b[0m         \u001b[0;32melse\u001b[0m\u001b[0;34m:\u001b[0m\u001b[0;34m\u001b[0m\u001b[0;34m\u001b[0m\u001b[0m\n\u001b[1;32m    605\u001b[0m           outputs = execute.execute_with_cancellation(\n",
            "\u001b[0;32m/usr/local/lib/python3.7/dist-packages/tensorflow/python/eager/execute.py\u001b[0m in \u001b[0;36mquick_execute\u001b[0;34m(op_name, num_outputs, inputs, attrs, ctx, name)\u001b[0m\n\u001b[1;32m     57\u001b[0m     \u001b[0mctx\u001b[0m\u001b[0;34m.\u001b[0m\u001b[0mensure_initialized\u001b[0m\u001b[0;34m(\u001b[0m\u001b[0;34m)\u001b[0m\u001b[0;34m\u001b[0m\u001b[0;34m\u001b[0m\u001b[0m\n\u001b[1;32m     58\u001b[0m     tensors = pywrap_tfe.TFE_Py_Execute(ctx._handle, device_name, op_name,\n\u001b[0;32m---> 59\u001b[0;31m                                         inputs, attrs, num_outputs)\n\u001b[0m\u001b[1;32m     60\u001b[0m   \u001b[0;32mexcept\u001b[0m \u001b[0mcore\u001b[0m\u001b[0;34m.\u001b[0m\u001b[0m_NotOkStatusException\u001b[0m \u001b[0;32mas\u001b[0m \u001b[0me\u001b[0m\u001b[0;34m:\u001b[0m\u001b[0;34m\u001b[0m\u001b[0;34m\u001b[0m\u001b[0m\n\u001b[1;32m     61\u001b[0m     \u001b[0;32mif\u001b[0m \u001b[0mname\u001b[0m \u001b[0;32mis\u001b[0m \u001b[0;32mnot\u001b[0m \u001b[0;32mNone\u001b[0m\u001b[0;34m:\u001b[0m\u001b[0;34m\u001b[0m\u001b[0;34m\u001b[0m\u001b[0m\n",
            "\u001b[0;31mKeyboardInterrupt\u001b[0m: "
          ]
        }
      ]
    },
    {
      "cell_type": "code",
      "metadata": {
        "colab": {
          "base_uri": "https://localhost:8080/",
          "height": 295
        },
        "id": "pH1D5OcL97kd",
        "outputId": "aa4ef1f5-c403-4bc3-9355-ec088422c280"
      },
      "source": [
        "    plot.plot(model3.history.history['accuracy'])\n",
        "plot.plot(model3.history.history['val_accuracy'])\n",
        "plot.title('Model Accuracy')\n",
        "plot.ylabel('Accuracy')\n",
        "plot.xlabel('Epoch')\n",
        "plot.legend(['Train Set', 'Validation Set'], loc='upper left')\n",
        "plot.show()"
      ],
      "execution_count": null,
      "outputs": [
        {
          "output_type": "display_data",
          "data": {
            "image/png": "[encoded data removed]",
            "text/plain": [
              "<Figure size 432x288 with 1 Axes>"
            ]
          },
          "metadata": {
            "needs_background": "light"
          }
        }
      ]
    },
    {
      "cell_type": "code",
      "metadata": {
        "colab": {
          "base_uri": "https://localhost:8080/",
          "height": 295
        },
        "id": "krga_-GtlK1z",
        "outputId": "562baf4a-88f8-4b31-ed76-786bdc87f336"
      },
      "source": [
        "plot.plot(model3.history.history['loss'])\n",
        "plot.plot(model3.history.history['val_loss'])\n",
        "plot.title('Model Loss')\n",
        "plot.ylabel('Loss')\n",
        "plot.xlabel('Epoch')\n",
        "plot.legend(['Train Set', 'Validation Set'], loc='upper left')\n",
        "plot.show()"
      ],
      "execution_count": null,
      "outputs": [
        {
          "output_type": "display_data",
          "data": {
            "image/png": "[encoded data removed]",
            "text/plain": [
              "<Figure size 432x288 with 1 Axes>"
            ]
          },
          "metadata": {
            "needs_background": "light"
          }
        }
      ]
    },
    {
      "cell_type": "code",
      "metadata": {
        "colab": {
          "base_uri": "https://localhost:8080/"
        },
        "id": "v08-jkg5lRWi",
        "outputId": "5b279dc4-50cc-4a8c-f38a-1cfdbf55caff"
      },
      "source": [
        "print(\"Validation acc set at\\t\",model3.evaluate(x_Val,y_Val))\n",
        "# print(\"Test acc set at\\t\",model1.evaluate(x_Test,y_Test))\n",
        "print(x_Test.shape)\n",
        "model3_predictions = model3.predict(x_Test[1:2,:,:])\n",
        "\n",
        "print(model3_predictions.round())\n",
        "print(y_Test[2])\n",
        "np.unique((model3_predictions.round() == y_Test),return_counts=True)\n",
        "# print((model3_predictions.round() == y_Test).shape)"
      ],
      "execution_count": null,
      "outputs": [
        {
          "output_type": "stream",
          "name": "stdout",
          "text": [
            "5/5 [==============================] - 0s 13ms/step - loss: 1.5333 - accuracy: 0.5839\n",
            "Validation acc set at\t [1.533342957496643, 0.5838926434516907]\n",
            "(149, 12, 25600)\n",
            "[[1.]]\n",
            "0\n"
          ]
        },
        {
          "output_type": "execute_result",
          "data": {
            "text/plain": [
              "(array([False,  True]), array([73, 76]))"
            ]
          },
          "metadata": {},
          "execution_count": 11
        }
      ]
    },
    {
      "cell_type": "code",
      "metadata": {
        "colab": {
          "base_uri": "https://localhost:8080/"
        },
        "id": "du6sn2j4llAe",
        "outputId": "92593d10-c300-4435-b264-bd2416d81aac"
      },
      "source": [
        "x_Test[1:2].shape"
      ],
      "execution_count": null,
      "outputs": [
        {
          "output_type": "execute_result",
          "data": {
            "text/plain": [
              "(1, 12, 25600)"
            ]
          },
          "metadata": {},
          "execution_count": 12
        }
      ]
    },
    {
      "cell_type": "code",
      "metadata": {
        "colab": {
          "base_uri": "https://localhost:8080/"
        },
        "id": "1m1i6t-QKR5H",
        "outputId": "64d37f65-7391-485b-fe03-d2be0652f847"
      },
      "source": [
        "(y_Train == 1).sum()\n"
      ],
      "execution_count": null,
      "outputs": [
        {
          "data": {
            "text/plain": [
              "674"
            ]
          },
          "execution_count": 20,
          "metadata": {},
          "output_type": "execute_result"
        }
      ]
    },
    {
      "cell_type": "code",
      "metadata": {
        "colab": {
          "base_uri": "https://localhost:8080/"
        },
        "id": "ipySCppAp0S0",
        "outputId": "93db6fcf-a23c-485a-f5fd-2ddfc42f7034"
      },
      "source": [
        "y_Train.shape"
      ],
      "execution_count": null,
      "outputs": [
        {
          "data": {
            "text/plain": [
              "(1341,)"
            ]
          },
          "execution_count": 18,
          "metadata": {},
          "output_type": "execute_result"
        }
      ]
    },
    {
      "cell_type": "code",
      "metadata": {
        "colab": {
          "base_uri": "https://localhost:8080/"
        },
        "id": "jZ2_OQuWqKw-",
        "outputId": "5c74db3f-d91e-4dfb-ac10-0ef1a29f4d46"
      },
      "source": [
        "model4 = tf.keras.models.Sequential()\n",
        "\n",
        "model4.add(tf.keras.layers.LSTM(units=64,input_shape=(x_Train.shape[1],x_Train.shape[2]),return_sequences=False))\n",
        "\n",
        "\n",
        "#Decrease learning rate\n",
        "optimizer = keras.optimizers.Adam(learning_rate=0.001)\n",
        "model4.add(tf.keras.layers.Dense(units=1,activation='sigmoid'))\n",
        "model4.compile(optimizer='adam',loss='binary_crossentropy',metrics=['accuracy'])\n",
        "\n",
        "# show model1 summary\n",
        "model4.summary()"
      ],
      "execution_count": null,
      "outputs": [
        {
          "output_type": "stream",
          "name": "stdout",
          "text": [
            "Model: \"sequential_3\"\n",
            "_________________________________________________________________\n",
            " Layer (type)                Output Shape              Param #   \n",
            "=================================================================\n",
            " lstm_1 (LSTM)               (None, 64)                6570240   \n",
            "                                                                 \n",
            " dense_4 (Dense)             (None, 1)                 65        \n",
            "                                                                 \n",
            "=================================================================\n",
            "Total params: 6,570,305\n",
            "Trainable params: 6,570,305\n",
            "Non-trainable params: 0\n",
            "_________________________________________________________________\n"
          ]
        }
      ]
    },
    {
      "cell_type": "code",
      "metadata": {
        "id": "RPW1W4FmqGdl"
      },
      "source": [
        "model4.fit(x_Train,y_Train,epochs=60,batch_size=64,validation_data=(x_Val,y_Val))"
      ],
      "execution_count": null,
      "outputs": []
    },
    {
      "cell_type": "code",
      "metadata": {
        "id": "LImnIT4fRT3Q",
        "colab": {
          "base_uri": "https://localhost:8080/"
        },
        "outputId": "f605532c-7327-4bb6-c846-793ec7cb573a"
      },
      "source": [
        "model5 = tf.keras.models.Sequential()\n",
        "\n",
        "model5.add(tf.keras.layers.GRU(units=64,input_shape=(x_Train.shape[1],x_Train.shape[2]),return_sequences=False))\n",
        "\n",
        "\n",
        "#Decrease learning rate\n",
        "# optimizer = keras.optimizers.Adam(learning_rate=0.001)\n",
        "model5.add(tf.keras.layers.Dense(units=1,activation='sigmoid'))\n",
        "model5.compile(optimizer='adam',loss='binary_crossentropy',metrics=['accuracy'])\n",
        "\n",
        "# show model1 summary\n",
        "model5.summary()"
      ],
      "execution_count": null,
      "outputs": [
        {
          "output_type": "stream",
          "name": "stdout",
          "text": [
            "Model: \"sequential\"\n",
            "_________________________________________________________________\n",
            " Layer (type)                Output Shape              Param #   \n",
            "=================================================================\n",
            " gru (GRU)                   (None, 64)                4927872   \n",
            "                                                                 \n",
            " dense (Dense)               (None, 1)                 65        \n",
            "                                                                 \n",
            "=================================================================\n",
            "Total params: 4,927,937\n",
            "Trainable params: 4,927,937\n",
            "Non-trainable params: 0\n",
            "_________________________________________________________________\n"
          ]
        }
      ]
    },
    {
      "cell_type": "code",
      "metadata": {
        "colab": {
          "base_uri": "https://localhost:8080/",
          "height": 1000
        },
        "id": "nT9oI9FpqKOm",
        "outputId": "d9a770c3-15c7-48a4-d008-d25521afc04e"
      },
      "source": [
        "model5.fit(x_Train,y_Train,epochs=60,batch_size=64,validation_data=(x_Val,y_Val))"
      ],
      "execution_count": null,
      "outputs": [
        {
          "output_type": "stream",
          "name": "stdout",
          "text": [
            "Epoch 1/60\n",
            "42/42 [==============================] - 8s 51ms/step - loss: 0.6936 - accuracy: 0.4825 - val_loss: 0.6932 - val_accuracy: 0.4899\n",
            "Epoch 2/60\n",
            "42/42 [==============================] - 1s 36ms/step - loss: 0.6931 - accuracy: 0.4870 - val_loss: 0.6930 - val_accuracy: 0.5101\n",
            "Epoch 3/60\n",
            "42/42 [==============================] - 2s 37ms/step - loss: 0.6929 - accuracy: 0.5179 - val_loss: 0.6931 - val_accuracy: 0.5168\n",
            "Epoch 4/60\n",
            "42/42 [==============================] - 2s 37ms/step - loss: 0.6924 - accuracy: 0.5265 - val_loss: 0.6931 - val_accuracy: 0.5101\n",
            "Epoch 5/60\n",
            "42/42 [==============================] - 2s 36ms/step - loss: 0.6917 - accuracy: 0.5466 - val_loss: 0.6931 - val_accuracy: 0.5168\n",
            "Epoch 6/60\n",
            "42/42 [==============================] - 2s 37ms/step - loss: 0.6908 - accuracy: 0.5466 - val_loss: 0.6936 - val_accuracy: 0.5101\n",
            "Epoch 7/60\n",
            "42/42 [==============================] - 2s 36ms/step - loss: 0.6887 - accuracy: 0.5298 - val_loss: 0.6917 - val_accuracy: 0.5101\n",
            "Epoch 8/60\n",
            "42/42 [==============================] - 2s 37ms/step - loss: 0.6810 - accuracy: 0.6160 - val_loss: 0.6891 - val_accuracy: 0.5235\n",
            "Epoch 9/60\n",
            "42/42 [==============================] - 1s 35ms/step - loss: 0.6570 - accuracy: 0.5880 - val_loss: 0.6974 - val_accuracy: 0.5168\n",
            "Epoch 10/60\n",
            "42/42 [==============================] - 1s 35ms/step - loss: 0.6065 - accuracy: 0.6898 - val_loss: 0.7195 - val_accuracy: 0.5034\n",
            "Epoch 11/60\n",
            "42/42 [==============================] - 2s 37ms/step - loss: 0.5647 - accuracy: 0.6972 - val_loss: 0.8610 - val_accuracy: 0.5235\n",
            "Epoch 12/60\n",
            "42/42 [==============================] - 2s 37ms/step - loss: 0.5265 - accuracy: 0.7196 - val_loss: 0.6993 - val_accuracy: 0.5168\n",
            "Epoch 13/60\n",
            "42/42 [==============================] - 2s 36ms/step - loss: 0.4823 - accuracy: 0.8069 - val_loss: 1.0825 - val_accuracy: 0.5168\n",
            "Epoch 14/60\n",
            "42/42 [==============================] - 1s 35ms/step - loss: 0.3790 - accuracy: 0.8251 - val_loss: 1.0008 - val_accuracy: 0.5436\n",
            "Epoch 15/60\n",
            "42/42 [==============================] - 1s 36ms/step - loss: 0.3227 - accuracy: 0.8527 - val_loss: 1.3824 - val_accuracy: 0.5034\n",
            "Epoch 16/60\n",
            "42/42 [==============================] - 1s 35ms/step - loss: 0.2644 - accuracy: 0.8784 - val_loss: 1.5253 - val_accuracy: 0.4698\n",
            "Epoch 17/60\n",
            "42/42 [==============================] - 1s 35ms/step - loss: 0.2298 - accuracy: 0.8997 - val_loss: 1.7053 - val_accuracy: 0.4631\n",
            "Epoch 18/60\n",
            "42/42 [==============================] - 2s 36ms/step - loss: 0.2325 - accuracy: 0.8986 - val_loss: 1.5724 - val_accuracy: 0.4631\n",
            "Epoch 19/60\n",
            "42/42 [==============================] - 1s 36ms/step - loss: 0.2196 - accuracy: 0.9083 - val_loss: 1.6729 - val_accuracy: 0.5302\n",
            "Epoch 20/60\n",
            "42/42 [==============================] - 2s 36ms/step - loss: 0.1575 - accuracy: 0.9303 - val_loss: 1.8471 - val_accuracy: 0.4899\n",
            "Epoch 21/60\n",
            "31/42 [=====================>........] - ETA: 0s - loss: 0.1487 - accuracy: 0.9365"
          ]
        },
        {
          "output_type": "error",
          "ename": "KeyboardInterrupt",
          "evalue": "ignored",
          "traceback": [
            "\u001b[0;31m---------------------------------------------------------------------------\u001b[0m",
            "\u001b[0;31mKeyboardInterrupt\u001b[0m                         Traceback (most recent call last)",
            "\u001b[0;32m<ipython-input-6-80e4c855cc54>\u001b[0m in \u001b[0;36m<module>\u001b[0;34m()\u001b[0m\n\u001b[0;32m----> 1\u001b[0;31m \u001b[0mmodel5\u001b[0m\u001b[0;34m.\u001b[0m\u001b[0mfit\u001b[0m\u001b[0;34m(\u001b[0m\u001b[0mx_Train\u001b[0m\u001b[0;34m,\u001b[0m\u001b[0my_Train\u001b[0m\u001b[0;34m,\u001b[0m\u001b[0mepochs\u001b[0m\u001b[0;34m=\u001b[0m\u001b[0;36m60\u001b[0m\u001b[0;34m,\u001b[0m\u001b[0mbatch_size\u001b[0m\u001b[0;34m=\u001b[0m\u001b[0;36m64\u001b[0m\u001b[0;34m,\u001b[0m\u001b[0mvalidation_data\u001b[0m\u001b[0;34m=\u001b[0m\u001b[0;34m(\u001b[0m\u001b[0mx_Val\u001b[0m\u001b[0;34m,\u001b[0m\u001b[0my_Val\u001b[0m\u001b[0;34m)\u001b[0m\u001b[0;34m)\u001b[0m\u001b[0;34m\u001b[0m\u001b[0;34m\u001b[0m\u001b[0m\n\u001b[0m",
            "\u001b[0;32m/usr/local/lib/python3.7/dist-packages/keras/utils/traceback_utils.py\u001b[0m in \u001b[0;36merror_handler\u001b[0;34m(*args, **kwargs)\u001b[0m\n\u001b[1;32m     62\u001b[0m     \u001b[0mfiltered_tb\u001b[0m \u001b[0;34m=\u001b[0m \u001b[0;32mNone\u001b[0m\u001b[0;34m\u001b[0m\u001b[0;34m\u001b[0m\u001b[0m\n\u001b[1;32m     63\u001b[0m     \u001b[0;32mtry\u001b[0m\u001b[0;34m:\u001b[0m\u001b[0;34m\u001b[0m\u001b[0;34m\u001b[0m\u001b[0m\n\u001b[0;32m---> 64\u001b[0;31m       \u001b[0;32mreturn\u001b[0m \u001b[0mfn\u001b[0m\u001b[0;34m(\u001b[0m\u001b[0;34m*\u001b[0m\u001b[0margs\u001b[0m\u001b[0;34m,\u001b[0m \u001b[0;34m**\u001b[0m\u001b[0mkwargs\u001b[0m\u001b[0;34m)\u001b[0m\u001b[0;34m\u001b[0m\u001b[0;34m\u001b[0m\u001b[0m\n\u001b[0m\u001b[1;32m     65\u001b[0m     \u001b[0;32mexcept\u001b[0m \u001b[0mException\u001b[0m \u001b[0;32mas\u001b[0m \u001b[0me\u001b[0m\u001b[0;34m:\u001b[0m  \u001b[0;31m# pylint: disable=broad-except\u001b[0m\u001b[0;34m\u001b[0m\u001b[0;34m\u001b[0m\u001b[0m\n\u001b[1;32m     66\u001b[0m       \u001b[0mfiltered_tb\u001b[0m \u001b[0;34m=\u001b[0m \u001b[0m_process_traceback_frames\u001b[0m\u001b[0;34m(\u001b[0m\u001b[0me\u001b[0m\u001b[0;34m.\u001b[0m\u001b[0m__traceback__\u001b[0m\u001b[0;34m)\u001b[0m\u001b[0;34m\u001b[0m\u001b[0;34m\u001b[0m\u001b[0m\n",
            "\u001b[0;32m/usr/local/lib/python3.7/dist-packages/keras/engine/training.py\u001b[0m in \u001b[0;36mfit\u001b[0;34m(self, x, y, batch_size, epochs, verbose, callbacks, validation_split, validation_data, shuffle, class_weight, sample_weight, initial_epoch, steps_per_epoch, validation_steps, validation_batch_size, validation_freq, max_queue_size, workers, use_multiprocessing)\u001b[0m\n\u001b[1;32m   1214\u001b[0m                 _r=1):\n\u001b[1;32m   1215\u001b[0m               \u001b[0mcallbacks\u001b[0m\u001b[0;34m.\u001b[0m\u001b[0mon_train_batch_begin\u001b[0m\u001b[0;34m(\u001b[0m\u001b[0mstep\u001b[0m\u001b[0;34m)\u001b[0m\u001b[0;34m\u001b[0m\u001b[0;34m\u001b[0m\u001b[0m\n\u001b[0;32m-> 1216\u001b[0;31m               \u001b[0mtmp_logs\u001b[0m \u001b[0;34m=\u001b[0m \u001b[0mself\u001b[0m\u001b[0;34m.\u001b[0m\u001b[0mtrain_function\u001b[0m\u001b[0;34m(\u001b[0m\u001b[0miterator\u001b[0m\u001b[0;34m)\u001b[0m\u001b[0;34m\u001b[0m\u001b[0;34m\u001b[0m\u001b[0m\n\u001b[0m\u001b[1;32m   1217\u001b[0m               \u001b[0;32mif\u001b[0m \u001b[0mdata_handler\u001b[0m\u001b[0;34m.\u001b[0m\u001b[0mshould_sync\u001b[0m\u001b[0;34m:\u001b[0m\u001b[0;34m\u001b[0m\u001b[0;34m\u001b[0m\u001b[0m\n\u001b[1;32m   1218\u001b[0m                 \u001b[0mcontext\u001b[0m\u001b[0;34m.\u001b[0m\u001b[0masync_wait\u001b[0m\u001b[0;34m(\u001b[0m\u001b[0;34m)\u001b[0m\u001b[0;34m\u001b[0m\u001b[0;34m\u001b[0m\u001b[0m\n",
            "\u001b[0;32m/usr/local/lib/python3.7/dist-packages/tensorflow/python/util/traceback_utils.py\u001b[0m in \u001b[0;36merror_handler\u001b[0;34m(*args, **kwargs)\u001b[0m\n\u001b[1;32m    148\u001b[0m     \u001b[0mfiltered_tb\u001b[0m \u001b[0;34m=\u001b[0m \u001b[0;32mNone\u001b[0m\u001b[0;34m\u001b[0m\u001b[0;34m\u001b[0m\u001b[0m\n\u001b[1;32m    149\u001b[0m     \u001b[0;32mtry\u001b[0m\u001b[0;34m:\u001b[0m\u001b[0;34m\u001b[0m\u001b[0;34m\u001b[0m\u001b[0m\n\u001b[0;32m--> 150\u001b[0;31m       \u001b[0;32mreturn\u001b[0m \u001b[0mfn\u001b[0m\u001b[0;34m(\u001b[0m\u001b[0;34m*\u001b[0m\u001b[0margs\u001b[0m\u001b[0;34m,\u001b[0m \u001b[0;34m**\u001b[0m\u001b[0mkwargs\u001b[0m\u001b[0;34m)\u001b[0m\u001b[0;34m\u001b[0m\u001b[0;34m\u001b[0m\u001b[0m\n\u001b[0m\u001b[1;32m    151\u001b[0m     \u001b[0;32mexcept\u001b[0m \u001b[0mException\u001b[0m \u001b[0;32mas\u001b[0m \u001b[0me\u001b[0m\u001b[0;34m:\u001b[0m\u001b[0;34m\u001b[0m\u001b[0;34m\u001b[0m\u001b[0m\n\u001b[1;32m    152\u001b[0m       \u001b[0mfiltered_tb\u001b[0m \u001b[0;34m=\u001b[0m \u001b[0m_process_traceback_frames\u001b[0m\u001b[0;34m(\u001b[0m\u001b[0me\u001b[0m\u001b[0;34m.\u001b[0m\u001b[0m__traceback__\u001b[0m\u001b[0;34m)\u001b[0m\u001b[0;34m\u001b[0m\u001b[0;34m\u001b[0m\u001b[0m\n",
            "\u001b[0;32m/usr/local/lib/python3.7/dist-packages/tensorflow/python/eager/def_function.py\u001b[0m in \u001b[0;36m__call__\u001b[0;34m(self, *args, **kwds)\u001b[0m\n\u001b[1;32m    908\u001b[0m \u001b[0;34m\u001b[0m\u001b[0m\n\u001b[1;32m    909\u001b[0m       \u001b[0;32mwith\u001b[0m \u001b[0mOptionalXlaContext\u001b[0m\u001b[0;34m(\u001b[0m\u001b[0mself\u001b[0m\u001b[0;34m.\u001b[0m\u001b[0m_jit_compile\u001b[0m\u001b[0;34m)\u001b[0m\u001b[0;34m:\u001b[0m\u001b[0;34m\u001b[0m\u001b[0;34m\u001b[0m\u001b[0m\n\u001b[0;32m--> 910\u001b[0;31m         \u001b[0mresult\u001b[0m \u001b[0;34m=\u001b[0m \u001b[0mself\u001b[0m\u001b[0;34m.\u001b[0m\u001b[0m_call\u001b[0m\u001b[0;34m(\u001b[0m\u001b[0;34m*\u001b[0m\u001b[0margs\u001b[0m\u001b[0;34m,\u001b[0m \u001b[0;34m**\u001b[0m\u001b[0mkwds\u001b[0m\u001b[0;34m)\u001b[0m\u001b[0;34m\u001b[0m\u001b[0;34m\u001b[0m\u001b[0m\n\u001b[0m\u001b[1;32m    911\u001b[0m \u001b[0;34m\u001b[0m\u001b[0m\n\u001b[1;32m    912\u001b[0m       \u001b[0mnew_tracing_count\u001b[0m \u001b[0;34m=\u001b[0m \u001b[0mself\u001b[0m\u001b[0;34m.\u001b[0m\u001b[0mexperimental_get_tracing_count\u001b[0m\u001b[0;34m(\u001b[0m\u001b[0;34m)\u001b[0m\u001b[0;34m\u001b[0m\u001b[0;34m\u001b[0m\u001b[0m\n",
            "\u001b[0;32m/usr/local/lib/python3.7/dist-packages/tensorflow/python/eager/def_function.py\u001b[0m in \u001b[0;36m_call\u001b[0;34m(self, *args, **kwds)\u001b[0m\n\u001b[1;32m    940\u001b[0m       \u001b[0;31m# In this case we have created variables on the first call, so we run the\u001b[0m\u001b[0;34m\u001b[0m\u001b[0;34m\u001b[0m\u001b[0;34m\u001b[0m\u001b[0m\n\u001b[1;32m    941\u001b[0m       \u001b[0;31m# defunned version which is guaranteed to never create variables.\u001b[0m\u001b[0;34m\u001b[0m\u001b[0;34m\u001b[0m\u001b[0;34m\u001b[0m\u001b[0m\n\u001b[0;32m--> 942\u001b[0;31m       \u001b[0;32mreturn\u001b[0m \u001b[0mself\u001b[0m\u001b[0;34m.\u001b[0m\u001b[0m_stateless_fn\u001b[0m\u001b[0;34m(\u001b[0m\u001b[0;34m*\u001b[0m\u001b[0margs\u001b[0m\u001b[0;34m,\u001b[0m \u001b[0;34m**\u001b[0m\u001b[0mkwds\u001b[0m\u001b[0;34m)\u001b[0m  \u001b[0;31m# pylint: disable=not-callable\u001b[0m\u001b[0;34m\u001b[0m\u001b[0;34m\u001b[0m\u001b[0m\n\u001b[0m\u001b[1;32m    943\u001b[0m     \u001b[0;32melif\u001b[0m \u001b[0mself\u001b[0m\u001b[0;34m.\u001b[0m\u001b[0m_stateful_fn\u001b[0m \u001b[0;32mis\u001b[0m \u001b[0;32mnot\u001b[0m \u001b[0;32mNone\u001b[0m\u001b[0;34m:\u001b[0m\u001b[0;34m\u001b[0m\u001b[0;34m\u001b[0m\u001b[0m\n\u001b[1;32m    944\u001b[0m       \u001b[0;31m# Release the lock early so that multiple threads can perform the call\u001b[0m\u001b[0;34m\u001b[0m\u001b[0;34m\u001b[0m\u001b[0;34m\u001b[0m\u001b[0m\n",
            "\u001b[0;32m/usr/local/lib/python3.7/dist-packages/tensorflow/python/eager/function.py\u001b[0m in \u001b[0;36m__call__\u001b[0;34m(self, *args, **kwargs)\u001b[0m\n\u001b[1;32m   3129\u001b[0m        filtered_flat_args) = self._maybe_define_function(args, kwargs)\n\u001b[1;32m   3130\u001b[0m     return graph_function._call_flat(\n\u001b[0;32m-> 3131\u001b[0;31m         filtered_flat_args, captured_inputs=graph_function.captured_inputs)  # pylint: disable=protected-access\n\u001b[0m\u001b[1;32m   3132\u001b[0m \u001b[0;34m\u001b[0m\u001b[0m\n\u001b[1;32m   3133\u001b[0m   \u001b[0;34m@\u001b[0m\u001b[0mproperty\u001b[0m\u001b[0;34m\u001b[0m\u001b[0;34m\u001b[0m\u001b[0m\n",
            "\u001b[0;32m/usr/local/lib/python3.7/dist-packages/tensorflow/python/eager/function.py\u001b[0m in \u001b[0;36m_call_flat\u001b[0;34m(self, args, captured_inputs, cancellation_manager)\u001b[0m\n\u001b[1;32m   1958\u001b[0m       \u001b[0;31m# No tape is watching; skip to running the function.\u001b[0m\u001b[0;34m\u001b[0m\u001b[0;34m\u001b[0m\u001b[0;34m\u001b[0m\u001b[0m\n\u001b[1;32m   1959\u001b[0m       return self._build_call_outputs(self._inference_function.call(\n\u001b[0;32m-> 1960\u001b[0;31m           ctx, args, cancellation_manager=cancellation_manager))\n\u001b[0m\u001b[1;32m   1961\u001b[0m     forward_backward = self._select_forward_and_backward_functions(\n\u001b[1;32m   1962\u001b[0m         \u001b[0margs\u001b[0m\u001b[0;34m,\u001b[0m\u001b[0;34m\u001b[0m\u001b[0;34m\u001b[0m\u001b[0m\n",
            "\u001b[0;32m/usr/local/lib/python3.7/dist-packages/tensorflow/python/eager/function.py\u001b[0m in \u001b[0;36mcall\u001b[0;34m(self, ctx, args, cancellation_manager)\u001b[0m\n\u001b[1;32m    601\u001b[0m               \u001b[0minputs\u001b[0m\u001b[0;34m=\u001b[0m\u001b[0margs\u001b[0m\u001b[0;34m,\u001b[0m\u001b[0;34m\u001b[0m\u001b[0;34m\u001b[0m\u001b[0m\n\u001b[1;32m    602\u001b[0m               \u001b[0mattrs\u001b[0m\u001b[0;34m=\u001b[0m\u001b[0mattrs\u001b[0m\u001b[0;34m,\u001b[0m\u001b[0;34m\u001b[0m\u001b[0;34m\u001b[0m\u001b[0m\n\u001b[0;32m--> 603\u001b[0;31m               ctx=ctx)\n\u001b[0m\u001b[1;32m    604\u001b[0m         \u001b[0;32melse\u001b[0m\u001b[0;34m:\u001b[0m\u001b[0;34m\u001b[0m\u001b[0;34m\u001b[0m\u001b[0m\n\u001b[1;32m    605\u001b[0m           outputs = execute.execute_with_cancellation(\n",
            "\u001b[0;32m/usr/local/lib/python3.7/dist-packages/tensorflow/python/eager/execute.py\u001b[0m in \u001b[0;36mquick_execute\u001b[0;34m(op_name, num_outputs, inputs, attrs, ctx, name)\u001b[0m\n\u001b[1;32m     57\u001b[0m     \u001b[0mctx\u001b[0m\u001b[0;34m.\u001b[0m\u001b[0mensure_initialized\u001b[0m\u001b[0;34m(\u001b[0m\u001b[0;34m)\u001b[0m\u001b[0;34m\u001b[0m\u001b[0;34m\u001b[0m\u001b[0m\n\u001b[1;32m     58\u001b[0m     tensors = pywrap_tfe.TFE_Py_Execute(ctx._handle, device_name, op_name,\n\u001b[0;32m---> 59\u001b[0;31m                                         inputs, attrs, num_outputs)\n\u001b[0m\u001b[1;32m     60\u001b[0m   \u001b[0;32mexcept\u001b[0m \u001b[0mcore\u001b[0m\u001b[0;34m.\u001b[0m\u001b[0m_NotOkStatusException\u001b[0m \u001b[0;32mas\u001b[0m \u001b[0me\u001b[0m\u001b[0;34m:\u001b[0m\u001b[0;34m\u001b[0m\u001b[0;34m\u001b[0m\u001b[0m\n\u001b[1;32m     61\u001b[0m     \u001b[0;32mif\u001b[0m \u001b[0mname\u001b[0m \u001b[0;32mis\u001b[0m \u001b[0;32mnot\u001b[0m \u001b[0;32mNone\u001b[0m\u001b[0;34m:\u001b[0m\u001b[0;34m\u001b[0m\u001b[0;34m\u001b[0m\u001b[0m\n",
            "\u001b[0;31mKeyboardInterrupt\u001b[0m: "
          ]
        }
      ]
    },
    {
      "cell_type": "code",
      "metadata": {
        "id": "zFFPRIKuDFqY"
      },
      "source": [
        ""
      ],
      "execution_count": null,
      "outputs": []
    }
  ]
}